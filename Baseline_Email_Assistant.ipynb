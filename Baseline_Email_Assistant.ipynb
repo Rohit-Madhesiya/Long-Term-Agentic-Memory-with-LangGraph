{
  "cells": [
    {
      "cell_type": "markdown",
      "metadata": {
        "id": "view-in-github",
        "colab_type": "text"
      },
      "source": [
        "<a href=\"https://colab.research.google.com/github/Rohit-Madhesiya/Long-Term-Agentic-Memory-with-LangGraph/blob/main/Baseline_Email_Assistant.ipynb\" target=\"_parent\"><img src=\"https://colab.research.google.com/assets/colab-badge.svg\" alt=\"Open In Colab\"/></a>"
      ]
    },
    {
      "cell_type": "code",
      "source": [
        "!pip install dotenv langchain_openai"
      ],
      "metadata": {
        "colab": {
          "base_uri": "https://localhost:8080/"
        },
        "id": "8jgU5rbMBSo-",
        "outputId": "4a863518-ae21-4355-c73d-3890569f5e3f"
      },
      "execution_count": 28,
      "outputs": [
        {
          "output_type": "stream",
          "name": "stdout",
          "text": [
            "Requirement already satisfied: dotenv in /usr/local/lib/python3.11/dist-packages (0.9.9)\n",
            "Requirement already satisfied: langchain_openai in /usr/local/lib/python3.11/dist-packages (0.3.9)\n",
            "Requirement already satisfied: python-dotenv in /usr/local/lib/python3.11/dist-packages (from dotenv) (1.0.1)\n",
            "Requirement already satisfied: langchain-core<1.0.0,>=0.3.45 in /usr/local/lib/python3.11/dist-packages (from langchain_openai) (0.3.45)\n",
            "Requirement already satisfied: openai<2.0.0,>=1.66.3 in /usr/local/lib/python3.11/dist-packages (from langchain_openai) (1.66.3)\n",
            "Requirement already satisfied: tiktoken<1,>=0.7 in /usr/local/lib/python3.11/dist-packages (from langchain_openai) (0.9.0)\n",
            "Requirement already satisfied: langsmith<0.4,>=0.1.125 in /usr/local/lib/python3.11/dist-packages (from langchain-core<1.0.0,>=0.3.45->langchain_openai) (0.3.15)\n",
            "Requirement already satisfied: tenacity!=8.4.0,<10.0.0,>=8.1.0 in /usr/local/lib/python3.11/dist-packages (from langchain-core<1.0.0,>=0.3.45->langchain_openai) (9.0.0)\n",
            "Requirement already satisfied: jsonpatch<2.0,>=1.33 in /usr/local/lib/python3.11/dist-packages (from langchain-core<1.0.0,>=0.3.45->langchain_openai) (1.33)\n",
            "Requirement already satisfied: PyYAML>=5.3 in /usr/local/lib/python3.11/dist-packages (from langchain-core<1.0.0,>=0.3.45->langchain_openai) (6.0.2)\n",
            "Requirement already satisfied: packaging<25,>=23.2 in /usr/local/lib/python3.11/dist-packages (from langchain-core<1.0.0,>=0.3.45->langchain_openai) (24.2)\n",
            "Requirement already satisfied: typing-extensions>=4.7 in /usr/local/lib/python3.11/dist-packages (from langchain-core<1.0.0,>=0.3.45->langchain_openai) (4.12.2)\n",
            "Requirement already satisfied: pydantic<3.0.0,>=2.5.2 in /usr/local/lib/python3.11/dist-packages (from langchain-core<1.0.0,>=0.3.45->langchain_openai) (2.10.6)\n",
            "Requirement already satisfied: anyio<5,>=3.5.0 in /usr/local/lib/python3.11/dist-packages (from openai<2.0.0,>=1.66.3->langchain_openai) (4.9.0)\n",
            "Requirement already satisfied: distro<2,>=1.7.0 in /usr/local/lib/python3.11/dist-packages (from openai<2.0.0,>=1.66.3->langchain_openai) (1.9.0)\n",
            "Requirement already satisfied: httpx<1,>=0.23.0 in /usr/local/lib/python3.11/dist-packages (from openai<2.0.0,>=1.66.3->langchain_openai) (0.28.1)\n",
            "Requirement already satisfied: jiter<1,>=0.4.0 in /usr/local/lib/python3.11/dist-packages (from openai<2.0.0,>=1.66.3->langchain_openai) (0.9.0)\n",
            "Requirement already satisfied: sniffio in /usr/local/lib/python3.11/dist-packages (from openai<2.0.0,>=1.66.3->langchain_openai) (1.3.1)\n",
            "Requirement already satisfied: tqdm>4 in /usr/local/lib/python3.11/dist-packages (from openai<2.0.0,>=1.66.3->langchain_openai) (4.67.1)\n",
            "Requirement already satisfied: regex>=2022.1.18 in /usr/local/lib/python3.11/dist-packages (from tiktoken<1,>=0.7->langchain_openai) (2024.11.6)\n",
            "Requirement already satisfied: requests>=2.26.0 in /usr/local/lib/python3.11/dist-packages (from tiktoken<1,>=0.7->langchain_openai) (2.32.3)\n",
            "Requirement already satisfied: idna>=2.8 in /usr/local/lib/python3.11/dist-packages (from anyio<5,>=3.5.0->openai<2.0.0,>=1.66.3->langchain_openai) (3.10)\n",
            "Requirement already satisfied: certifi in /usr/local/lib/python3.11/dist-packages (from httpx<1,>=0.23.0->openai<2.0.0,>=1.66.3->langchain_openai) (2025.1.31)\n",
            "Requirement already satisfied: httpcore==1.* in /usr/local/lib/python3.11/dist-packages (from httpx<1,>=0.23.0->openai<2.0.0,>=1.66.3->langchain_openai) (1.0.7)\n",
            "Requirement already satisfied: h11<0.15,>=0.13 in /usr/local/lib/python3.11/dist-packages (from httpcore==1.*->httpx<1,>=0.23.0->openai<2.0.0,>=1.66.3->langchain_openai) (0.14.0)\n",
            "Requirement already satisfied: jsonpointer>=1.9 in /usr/local/lib/python3.11/dist-packages (from jsonpatch<2.0,>=1.33->langchain-core<1.0.0,>=0.3.45->langchain_openai) (3.0.0)\n",
            "Requirement already satisfied: orjson<4.0.0,>=3.9.14 in /usr/local/lib/python3.11/dist-packages (from langsmith<0.4,>=0.1.125->langchain-core<1.0.0,>=0.3.45->langchain_openai) (3.10.15)\n",
            "Requirement already satisfied: requests-toolbelt<2.0.0,>=1.0.0 in /usr/local/lib/python3.11/dist-packages (from langsmith<0.4,>=0.1.125->langchain-core<1.0.0,>=0.3.45->langchain_openai) (1.0.0)\n",
            "Requirement already satisfied: zstandard<0.24.0,>=0.23.0 in /usr/local/lib/python3.11/dist-packages (from langsmith<0.4,>=0.1.125->langchain-core<1.0.0,>=0.3.45->langchain_openai) (0.23.0)\n",
            "Requirement already satisfied: annotated-types>=0.6.0 in /usr/local/lib/python3.11/dist-packages (from pydantic<3.0.0,>=2.5.2->langchain-core<1.0.0,>=0.3.45->langchain_openai) (0.7.0)\n",
            "Requirement already satisfied: pydantic-core==2.27.2 in /usr/local/lib/python3.11/dist-packages (from pydantic<3.0.0,>=2.5.2->langchain-core<1.0.0,>=0.3.45->langchain_openai) (2.27.2)\n",
            "Requirement already satisfied: charset-normalizer<4,>=2 in /usr/local/lib/python3.11/dist-packages (from requests>=2.26.0->tiktoken<1,>=0.7->langchain_openai) (3.4.1)\n",
            "Requirement already satisfied: urllib3<3,>=1.21.1 in /usr/local/lib/python3.11/dist-packages (from requests>=2.26.0->tiktoken<1,>=0.7->langchain_openai) (2.3.0)\n"
          ]
        }
      ]
    },
    {
      "cell_type": "code",
      "execution_count": 29,
      "metadata": {
        "id": "bAluPUNS-N_P"
      },
      "outputs": [],
      "source": [
        "import os\n",
        "from google.colab import userdata\n",
        "os.environ['OPENAI_API_KEY']=userdata.get('OPENAI_API_KEY')"
      ]
    },
    {
      "cell_type": "code",
      "execution_count": 30,
      "metadata": {
        "id": "EY9yiGQu-TUN"
      },
      "outputs": [],
      "source": [
        "profile={\n",
        "    \"name\":\"Rohit\",\n",
        "    \"full_name\":\"Rohit Gupta\",\n",
        "    \"user_profile_background\":\"Assistant Systems Engineer working as a Fresher in TCS\"\n",
        "}"
      ]
    },
    {
      "cell_type": "code",
      "source": [
        "prompt_instructions={\n",
        "    \"triage_rules\":{\n",
        "        \"ignore\":\"Marketing newsletters, spam emails, mass company announcements\",\n",
        "        \"notify\":\"Team member out sick, build system notifications, project status updates\",\n",
        "        \"respond\":\"Direct questions from team members, meeting requests,critical bug reports\"\n",
        "    },\n",
        "    \"agent_instructions\":\"Use these tools when appropriate to help manage Rohit's tasks efficiently\"\n",
        "}"
      ],
      "metadata": {
        "id": "Xz3GeooRBYj1"
      },
      "execution_count": 31,
      "outputs": []
    },
    {
      "cell_type": "markdown",
      "source": [
        "Sample Example"
      ],
      "metadata": {
        "id": "3oKobsr0CKWR"
      }
    },
    {
      "cell_type": "code",
      "source": [
        "email={\n",
        "    \"from\":\"Rahul <rahul@tcs.com>\",\n",
        "    \"to\":\"Rohit Gupta <guptarohit@tcs.com\",\n",
        "    \"subject\":\"Quick question about API documentation\",\n",
        "    \"body\":\"\"\"\n",
        "    Hi Rohit,\n",
        "    I was reviewing the API documentations for the new authentication service and noticed a few endpoints seem to be missing from the specs.\n",
        "    Could you help clarify if this was intentional or if we should update the docs?\n",
        "\n",
        "    Specifically, I am looking at:\n",
        "    - /auth/login\n",
        "    - /auth/validate\n",
        "\n",
        "    Thanks!\n",
        "    Rahul\n",
        "    \"\"\"\n",
        "}"
      ],
      "metadata": {
        "id": "DG3k4xnkBr0o"
      },
      "execution_count": 32,
      "outputs": []
    },
    {
      "cell_type": "code",
      "source": [
        "from pydantic import BaseModel, Field\n",
        "from typing_extensions import TypedDict, Literal, Annotated\n",
        "from langchain.chat_models import init_chat_model"
      ],
      "metadata": {
        "id": "tMxYm7afC3NT"
      },
      "execution_count": 33,
      "outputs": []
    },
    {
      "cell_type": "code",
      "source": [
        "llm=init_chat_model(\"openai:gpt-4o-mini\")"
      ],
      "metadata": {
        "id": "8ftBgRPYDBQH"
      },
      "execution_count": 34,
      "outputs": []
    },
    {
      "cell_type": "code",
      "source": [
        "class Router(BaseModel):\n",
        "  \"\"\"\n",
        "  Analyze the unread email and route it according to its content\n",
        "  \"\"\"\n",
        "  reasoning:str=Field(\n",
        "      description=\"Step-by-step reasoning behind the classification\"\n",
        "  )\n",
        "  classification:Literal[\"ignore\",\"respond\",\"notify\"]=Field(\n",
        "      description=\"The classification of an email: 'ignore' for irrevelant emails, \"\n",
        "      \"'notify' for important information that doesn't nees a response, \"\n",
        "      \"'respond' for emails that need a reply\",\n",
        "  )\n"
      ],
      "metadata": {
        "id": "9pZuQSEeDFNn"
      },
      "execution_count": 35,
      "outputs": []
    },
    {
      "cell_type": "code",
      "source": [
        "llm_router=llm.with_structured_output(Router)"
      ],
      "metadata": {
        "id": "AQvxlWLHEv2c"
      },
      "execution_count": 36,
      "outputs": []
    },
    {
      "cell_type": "code",
      "source": [
        "from langchain.prompts import PromptTemplate\n",
        "\n",
        "\n",
        "system_prompt=PromptTemplate(\n",
        "    input_variables=[\"profile\",\"prompt_instructions\"],\n",
        "    template=\"Your system message template here, using {profile} and {prompt_instructions}\"\n",
        ")\n",
        "user_prompt=PromptTemplate(\n",
        "    input_variables=['email'],\n",
        "    template=\"Your user message template here, using {email}\"\n",
        ")"
      ],
      "metadata": {
        "id": "Kut8ajhYE7TN"
      },
      "execution_count": 37,
      "outputs": []
    },
    {
      "cell_type": "code",
      "source": [
        "result=llm_router.invoke(\n",
        "    [\n",
        "        {'role':\"system\",'content':system_prompt.format(profile=profile,prompt_instructions=prompt_instructions)},\n",
        "        {'role':\"user\",'content':user_prompt.format(email=email)}\n",
        "    ]\n",
        ")"
      ],
      "metadata": {
        "id": "h6WGw1ojNIS7"
      },
      "execution_count": 38,
      "outputs": []
    },
    {
      "cell_type": "code",
      "source": [
        "print(result)"
      ],
      "metadata": {
        "colab": {
          "base_uri": "https://localhost:8080/"
        },
        "id": "31blipR9R4IC",
        "outputId": "bd040cb9-23e2-4a99-dbc3-7a5c6341e7f4"
      },
      "execution_count": 39,
      "outputs": [
        {
          "output_type": "stream",
          "name": "stdout",
          "text": [
            "reasoning='The email from Rahul is a direct question regarding the API documentation, specifically asking for clarification about some missing endpoints. This falls under the category of emails that require a response, as it pertains to an inquiry that needs a detailed answer from Rohit.' classification='respond'\n"
          ]
        }
      ]
    },
    {
      "cell_type": "markdown",
      "source": [
        "Main Agent, **Tools**"
      ],
      "metadata": {
        "id": "fC1KIgTWTgaY"
      }
    },
    {
      "cell_type": "code",
      "source": [
        "from langchain.tools import tool"
      ],
      "metadata": {
        "id": "c4hbx2WdS5I2"
      },
      "execution_count": 40,
      "outputs": []
    },
    {
      "cell_type": "code",
      "source": [
        "@tool\n",
        "def write_email(to:str,sub:str,content:str)->str:\n",
        "  \"\"\"Write and send en email\"\"\"\n",
        "  return f\"Email sent to {to} with subject '{subject}'\""
      ],
      "metadata": {
        "id": "Ln7xASCwToek"
      },
      "execution_count": 41,
      "outputs": []
    },
    {
      "cell_type": "code",
      "source": [
        "@tool\n",
        "def schedule_meeting(attendees:str,sub:str,duration:int,day:str)->str:\n",
        "  \"\"\"Schedule a calendar meeting\"\"\"\n",
        "  return f\"Meeting '{subject}' scheduled for {day} with {len(attendees)} attendees\""
      ],
      "metadata": {
        "id": "Pe0Ui-EeT5IQ"
      },
      "execution_count": 42,
      "outputs": []
    },
    {
      "cell_type": "code",
      "source": [
        "@tool\n",
        "def check_calendar_availability(day:str)->str:\n",
        "  \"\"\"Check calendar availability for a given day\"\"\"\n",
        "  return f\"Available times on {day}: 9:00 AM, 2:00 PM, 4:00 PM\""
      ],
      "metadata": {
        "id": "owdNfDkEUUWE"
      },
      "execution_count": 43,
      "outputs": []
    },
    {
      "cell_type": "markdown",
      "source": [
        "Main Agent, **Prompt**"
      ],
      "metadata": {
        "id": "Fu5RhLgIUmhS"
      }
    },
    {
      "cell_type": "code",
      "source": [
        "from langchain.prompts import SystemMessagePromptTemplate, ChatPromptTemplate\n",
        "def create_prompt(state):\n",
        "  \"\"\"\n",
        "  Creates prompt for the agent, combining the system message with the user messages\n",
        "  \"\"\"\n",
        "  system_message_prompt=SystemMessagePromptTemplate.from_template(\n",
        "      \"Your system message template here, using {profile} and {prompt_instructions}\"\n",
        "  )\n",
        "\n",
        "  system_message=system_message_prompt.format(\n",
        "      profile=profile,\n",
        "      prompt_instructions=prompt_instructions\n",
        "  ).content\n",
        "\n",
        "  prompt=[{\n",
        "      \"role\":\"system\",\n",
        "      \"content\":system_message\n",
        "  }]+state['messages']\n",
        "\n",
        "  return prompt"
      ],
      "metadata": {
        "id": "mCS-C8zEUlWv"
      },
      "execution_count": 50,
      "outputs": []
    },
    {
      "cell_type": "code",
      "source": [
        "!pip install langgraph"
      ],
      "metadata": {
        "colab": {
          "base_uri": "https://localhost:8080/"
        },
        "id": "zuOywbm5Vasq",
        "outputId": "2e19420e-b0cd-4736-9871-c09d5f5983cc"
      },
      "execution_count": 45,
      "outputs": [
        {
          "output_type": "stream",
          "name": "stdout",
          "text": [
            "Requirement already satisfied: langgraph in /usr/local/lib/python3.11/dist-packages (0.3.18)\n",
            "Requirement already satisfied: langchain-core<0.4,>=0.1 in /usr/local/lib/python3.11/dist-packages (from langgraph) (0.3.45)\n",
            "Requirement already satisfied: langgraph-checkpoint<3.0.0,>=2.0.10 in /usr/local/lib/python3.11/dist-packages (from langgraph) (2.0.21)\n",
            "Requirement already satisfied: langgraph-prebuilt<0.2,>=0.1.1 in /usr/local/lib/python3.11/dist-packages (from langgraph) (0.1.4)\n",
            "Requirement already satisfied: langgraph-sdk<0.2.0,>=0.1.42 in /usr/local/lib/python3.11/dist-packages (from langgraph) (0.1.58)\n",
            "Requirement already satisfied: langsmith<0.4,>=0.1.125 in /usr/local/lib/python3.11/dist-packages (from langchain-core<0.4,>=0.1->langgraph) (0.3.15)\n",
            "Requirement already satisfied: tenacity!=8.4.0,<10.0.0,>=8.1.0 in /usr/local/lib/python3.11/dist-packages (from langchain-core<0.4,>=0.1->langgraph) (9.0.0)\n",
            "Requirement already satisfied: jsonpatch<2.0,>=1.33 in /usr/local/lib/python3.11/dist-packages (from langchain-core<0.4,>=0.1->langgraph) (1.33)\n",
            "Requirement already satisfied: PyYAML>=5.3 in /usr/local/lib/python3.11/dist-packages (from langchain-core<0.4,>=0.1->langgraph) (6.0.2)\n",
            "Requirement already satisfied: packaging<25,>=23.2 in /usr/local/lib/python3.11/dist-packages (from langchain-core<0.4,>=0.1->langgraph) (24.2)\n",
            "Requirement already satisfied: typing-extensions>=4.7 in /usr/local/lib/python3.11/dist-packages (from langchain-core<0.4,>=0.1->langgraph) (4.12.2)\n",
            "Requirement already satisfied: pydantic<3.0.0,>=2.5.2 in /usr/local/lib/python3.11/dist-packages (from langchain-core<0.4,>=0.1->langgraph) (2.10.6)\n",
            "Requirement already satisfied: msgpack<2.0.0,>=1.1.0 in /usr/local/lib/python3.11/dist-packages (from langgraph-checkpoint<3.0.0,>=2.0.10->langgraph) (1.1.0)\n",
            "Requirement already satisfied: httpx>=0.25.2 in /usr/local/lib/python3.11/dist-packages (from langgraph-sdk<0.2.0,>=0.1.42->langgraph) (0.28.1)\n",
            "Requirement already satisfied: orjson>=3.10.1 in /usr/local/lib/python3.11/dist-packages (from langgraph-sdk<0.2.0,>=0.1.42->langgraph) (3.10.15)\n",
            "Requirement already satisfied: anyio in /usr/local/lib/python3.11/dist-packages (from httpx>=0.25.2->langgraph-sdk<0.2.0,>=0.1.42->langgraph) (4.9.0)\n",
            "Requirement already satisfied: certifi in /usr/local/lib/python3.11/dist-packages (from httpx>=0.25.2->langgraph-sdk<0.2.0,>=0.1.42->langgraph) (2025.1.31)\n",
            "Requirement already satisfied: httpcore==1.* in /usr/local/lib/python3.11/dist-packages (from httpx>=0.25.2->langgraph-sdk<0.2.0,>=0.1.42->langgraph) (1.0.7)\n",
            "Requirement already satisfied: idna in /usr/local/lib/python3.11/dist-packages (from httpx>=0.25.2->langgraph-sdk<0.2.0,>=0.1.42->langgraph) (3.10)\n",
            "Requirement already satisfied: h11<0.15,>=0.13 in /usr/local/lib/python3.11/dist-packages (from httpcore==1.*->httpx>=0.25.2->langgraph-sdk<0.2.0,>=0.1.42->langgraph) (0.14.0)\n",
            "Requirement already satisfied: jsonpointer>=1.9 in /usr/local/lib/python3.11/dist-packages (from jsonpatch<2.0,>=1.33->langchain-core<0.4,>=0.1->langgraph) (3.0.0)\n",
            "Requirement already satisfied: requests<3,>=2 in /usr/local/lib/python3.11/dist-packages (from langsmith<0.4,>=0.1.125->langchain-core<0.4,>=0.1->langgraph) (2.32.3)\n",
            "Requirement already satisfied: requests-toolbelt<2.0.0,>=1.0.0 in /usr/local/lib/python3.11/dist-packages (from langsmith<0.4,>=0.1.125->langchain-core<0.4,>=0.1->langgraph) (1.0.0)\n",
            "Requirement already satisfied: zstandard<0.24.0,>=0.23.0 in /usr/local/lib/python3.11/dist-packages (from langsmith<0.4,>=0.1.125->langchain-core<0.4,>=0.1->langgraph) (0.23.0)\n",
            "Requirement already satisfied: annotated-types>=0.6.0 in /usr/local/lib/python3.11/dist-packages (from pydantic<3.0.0,>=2.5.2->langchain-core<0.4,>=0.1->langgraph) (0.7.0)\n",
            "Requirement already satisfied: pydantic-core==2.27.2 in /usr/local/lib/python3.11/dist-packages (from pydantic<3.0.0,>=2.5.2->langchain-core<0.4,>=0.1->langgraph) (2.27.2)\n",
            "Requirement already satisfied: charset-normalizer<4,>=2 in /usr/local/lib/python3.11/dist-packages (from requests<3,>=2->langsmith<0.4,>=0.1.125->langchain-core<0.4,>=0.1->langgraph) (3.4.1)\n",
            "Requirement already satisfied: urllib3<3,>=1.21.1 in /usr/local/lib/python3.11/dist-packages (from requests<3,>=2->langsmith<0.4,>=0.1.125->langchain-core<0.4,>=0.1->langgraph) (2.3.0)\n",
            "Requirement already satisfied: sniffio>=1.1 in /usr/local/lib/python3.11/dist-packages (from anyio->httpx>=0.25.2->langgraph-sdk<0.2.0,>=0.1.42->langgraph) (1.3.1)\n"
          ]
        }
      ]
    },
    {
      "cell_type": "code",
      "source": [
        "from langgraph.prebuilt import create_react_agent"
      ],
      "metadata": {
        "id": "eovkolmwVPgE"
      },
      "execution_count": 46,
      "outputs": []
    },
    {
      "cell_type": "code",
      "source": [
        "tools=[write_email,schedule_meeting,check_calendar_availability]"
      ],
      "metadata": {
        "id": "v10B_hL8VXyU"
      },
      "execution_count": 51,
      "outputs": []
    },
    {
      "cell_type": "code",
      "source": [
        "agent=create_react_agent(\n",
        "    \"openai:gpt-4o\",\n",
        "    tools=tools,\n",
        "    prompt=create_prompt\n",
        ")"
      ],
      "metadata": {
        "id": "VyLW43NMVqLR"
      },
      "execution_count": 52,
      "outputs": []
    },
    {
      "cell_type": "code",
      "source": [
        "response=agent.invoke({\n",
        "    \"messages\":[{\n",
        "        \"role\":\"user\",\n",
        "        \"content\":\"WHat is my availability for tuesday?\"\n",
        "    }]\n",
        "})"
      ],
      "metadata": {
        "id": "8MMn0BN_VxdJ"
      },
      "execution_count": 53,
      "outputs": []
    },
    {
      "cell_type": "code",
      "source": [
        "response[\"messages\"][-1].pretty_print()"
      ],
      "metadata": {
        "colab": {
          "base_uri": "https://localhost:8080/"
        },
        "id": "qtxmPGeJnqfV",
        "outputId": "56f8ae4a-0cd5-41fa-f3e4-143e1b2e00a0"
      },
      "execution_count": 59,
      "outputs": [
        {
          "output_type": "stream",
          "name": "stdout",
          "text": [
            "==================================\u001b[1m Ai Message \u001b[0m==================================\n",
            "\n",
            "You are available on Tuesday at 9:00 AM, 2:00 PM, and 4:00 PM.\n"
          ]
        }
      ]
    },
    {
      "cell_type": "markdown",
      "source": [
        "Overall Agent"
      ],
      "metadata": {
        "id": "spHIPmiGn-rN"
      }
    },
    {
      "cell_type": "code",
      "source": [
        "!pip install langgraph"
      ],
      "metadata": {
        "colab": {
          "base_uri": "https://localhost:8080/"
        },
        "id": "qHhx92HEoClT",
        "outputId": "3ccf372a-2d60-4476-bacc-6e7da1cf7b69"
      },
      "execution_count": 60,
      "outputs": [
        {
          "output_type": "stream",
          "name": "stdout",
          "text": [
            "Requirement already satisfied: langgraph in /usr/local/lib/python3.11/dist-packages (0.3.18)\n",
            "Requirement already satisfied: langchain-core<0.4,>=0.1 in /usr/local/lib/python3.11/dist-packages (from langgraph) (0.3.45)\n",
            "Requirement already satisfied: langgraph-checkpoint<3.0.0,>=2.0.10 in /usr/local/lib/python3.11/dist-packages (from langgraph) (2.0.21)\n",
            "Requirement already satisfied: langgraph-prebuilt<0.2,>=0.1.1 in /usr/local/lib/python3.11/dist-packages (from langgraph) (0.1.4)\n",
            "Requirement already satisfied: langgraph-sdk<0.2.0,>=0.1.42 in /usr/local/lib/python3.11/dist-packages (from langgraph) (0.1.58)\n",
            "Requirement already satisfied: langsmith<0.4,>=0.1.125 in /usr/local/lib/python3.11/dist-packages (from langchain-core<0.4,>=0.1->langgraph) (0.3.15)\n",
            "Requirement already satisfied: tenacity!=8.4.0,<10.0.0,>=8.1.0 in /usr/local/lib/python3.11/dist-packages (from langchain-core<0.4,>=0.1->langgraph) (9.0.0)\n",
            "Requirement already satisfied: jsonpatch<2.0,>=1.33 in /usr/local/lib/python3.11/dist-packages (from langchain-core<0.4,>=0.1->langgraph) (1.33)\n",
            "Requirement already satisfied: PyYAML>=5.3 in /usr/local/lib/python3.11/dist-packages (from langchain-core<0.4,>=0.1->langgraph) (6.0.2)\n",
            "Requirement already satisfied: packaging<25,>=23.2 in /usr/local/lib/python3.11/dist-packages (from langchain-core<0.4,>=0.1->langgraph) (24.2)\n",
            "Requirement already satisfied: typing-extensions>=4.7 in /usr/local/lib/python3.11/dist-packages (from langchain-core<0.4,>=0.1->langgraph) (4.12.2)\n",
            "Requirement already satisfied: pydantic<3.0.0,>=2.5.2 in /usr/local/lib/python3.11/dist-packages (from langchain-core<0.4,>=0.1->langgraph) (2.10.6)\n",
            "Requirement already satisfied: msgpack<2.0.0,>=1.1.0 in /usr/local/lib/python3.11/dist-packages (from langgraph-checkpoint<3.0.0,>=2.0.10->langgraph) (1.1.0)\n",
            "Requirement already satisfied: httpx>=0.25.2 in /usr/local/lib/python3.11/dist-packages (from langgraph-sdk<0.2.0,>=0.1.42->langgraph) (0.28.1)\n",
            "Requirement already satisfied: orjson>=3.10.1 in /usr/local/lib/python3.11/dist-packages (from langgraph-sdk<0.2.0,>=0.1.42->langgraph) (3.10.15)\n",
            "Requirement already satisfied: anyio in /usr/local/lib/python3.11/dist-packages (from httpx>=0.25.2->langgraph-sdk<0.2.0,>=0.1.42->langgraph) (4.9.0)\n",
            "Requirement already satisfied: certifi in /usr/local/lib/python3.11/dist-packages (from httpx>=0.25.2->langgraph-sdk<0.2.0,>=0.1.42->langgraph) (2025.1.31)\n",
            "Requirement already satisfied: httpcore==1.* in /usr/local/lib/python3.11/dist-packages (from httpx>=0.25.2->langgraph-sdk<0.2.0,>=0.1.42->langgraph) (1.0.7)\n",
            "Requirement already satisfied: idna in /usr/local/lib/python3.11/dist-packages (from httpx>=0.25.2->langgraph-sdk<0.2.0,>=0.1.42->langgraph) (3.10)\n",
            "Requirement already satisfied: h11<0.15,>=0.13 in /usr/local/lib/python3.11/dist-packages (from httpcore==1.*->httpx>=0.25.2->langgraph-sdk<0.2.0,>=0.1.42->langgraph) (0.14.0)\n",
            "Requirement already satisfied: jsonpointer>=1.9 in /usr/local/lib/python3.11/dist-packages (from jsonpatch<2.0,>=1.33->langchain-core<0.4,>=0.1->langgraph) (3.0.0)\n",
            "Requirement already satisfied: requests<3,>=2 in /usr/local/lib/python3.11/dist-packages (from langsmith<0.4,>=0.1.125->langchain-core<0.4,>=0.1->langgraph) (2.32.3)\n",
            "Requirement already satisfied: requests-toolbelt<2.0.0,>=1.0.0 in /usr/local/lib/python3.11/dist-packages (from langsmith<0.4,>=0.1.125->langchain-core<0.4,>=0.1->langgraph) (1.0.0)\n",
            "Requirement already satisfied: zstandard<0.24.0,>=0.23.0 in /usr/local/lib/python3.11/dist-packages (from langsmith<0.4,>=0.1.125->langchain-core<0.4,>=0.1->langgraph) (0.23.0)\n",
            "Requirement already satisfied: annotated-types>=0.6.0 in /usr/local/lib/python3.11/dist-packages (from pydantic<3.0.0,>=2.5.2->langchain-core<0.4,>=0.1->langgraph) (0.7.0)\n",
            "Requirement already satisfied: pydantic-core==2.27.2 in /usr/local/lib/python3.11/dist-packages (from pydantic<3.0.0,>=2.5.2->langchain-core<0.4,>=0.1->langgraph) (2.27.2)\n",
            "Requirement already satisfied: charset-normalizer<4,>=2 in /usr/local/lib/python3.11/dist-packages (from requests<3,>=2->langsmith<0.4,>=0.1.125->langchain-core<0.4,>=0.1->langgraph) (3.4.1)\n",
            "Requirement already satisfied: urllib3<3,>=1.21.1 in /usr/local/lib/python3.11/dist-packages (from requests<3,>=2->langsmith<0.4,>=0.1.125->langchain-core<0.4,>=0.1->langgraph) (2.3.0)\n",
            "Requirement already satisfied: sniffio>=1.1 in /usr/local/lib/python3.11/dist-packages (from anyio->httpx>=0.25.2->langgraph-sdk<0.2.0,>=0.1.42->langgraph) (1.3.1)\n"
          ]
        }
      ]
    },
    {
      "cell_type": "code",
      "source": [
        "from langgraph.graph import add_messages\n",
        "\n",
        "class State(TypedDict):\n",
        "  email_input:dict\n",
        "  messages:Annotated[list,add_messages]"
      ],
      "metadata": {
        "id": "1GNwbOrdntMr"
      },
      "execution_count": 61,
      "outputs": []
    },
    {
      "cell_type": "code",
      "source": [
        "from langgraph.graph import StateGraph,START,END\n",
        "from langgraph.types import Command\n",
        "from typing import Literal"
      ],
      "metadata": {
        "id": "suRPsZ6YoNo-"
      },
      "execution_count": 62,
      "outputs": []
    },
    {
      "cell_type": "code",
      "source": [
        "def triage_router(state:State)->Command[Literal['response_agent',\"__end__\"]]:\n",
        "  author=state['email_input']['author']\n",
        "  to=state['email_input']['to']\n",
        "  subject=state['email_input']['subject']\n",
        "  email_thread=state['email_input']['email_thread']\n",
        "\n",
        "  system_prompt=PromptTemplate(\n",
        "    input_variables=[\"profile\",\"prompt_instructions\"],\n",
        "    template=\"Your system message template here, using {profile} and {prompt_instructions}\"\n",
        "  )\n",
        "  email_input={\n",
        "      author:author,\n",
        "      to:to,\n",
        "      subject:subject,\n",
        "      email_thread:email_thread\n",
        "  }\n",
        "  user_prompt=PromptTemplate(\n",
        "    input_variables=['email'],\n",
        "    template=\"Your user message template here, using {email}\"\n",
        "  )\n",
        "\n",
        "  result=llm_router.invoke(\n",
        "    [\n",
        "        {'role':\"system\",'content':system_prompt.format(profile=profile,prompt_instructions=prompt_instructions)},\n",
        "        {'role':\"user\",'content':user_prompt.format(email=email_input)}\n",
        "    ]\n",
        "  )\n",
        "\n",
        "  if result.classification=='respond':\n",
        "    print(\"📧 Classification: RESPOND - This email requires a response\")\n",
        "    goto =\"response_agent\"\n",
        "    update={\n",
        "        \"messages\":[{\n",
        "            \"role\":\"user\",\n",
        "            \"content\":f\"Respond to the email {state['email_input']}\"\n",
        "        }]\n",
        "    }\n",
        "  elif result.classification=='ignore':\n",
        "    print(\"🚫 Classification: IGNORE - This email can be safely ignored\")\n",
        "    update=None\n",
        "    goto=END\n",
        "  elif result.classification=='notify':\n",
        "    print(\"🔔 Classification: NOTIFY - This email contains important information\")\n",
        "    update=None\n",
        "    goto=END\n",
        "  else:\n",
        "    raise ValueError(f\"Invalid classification: {result.classification}\")\n",
        "\n",
        "  return Command(goto=goto,update=update)\n"
      ],
      "metadata": {
        "id": "8MZFpaSMoXO-"
      },
      "execution_count": 72,
      "outputs": []
    },
    {
      "cell_type": "code",
      "source": [
        "email_agent=StateGraph(State)\n",
        "email_agent=email_agent.add_node(triage_router)\n",
        "email_agent=email_agent.add_node(\"response_agent\",agent)\n",
        "email_agent=email_agent.add_edge(START,\"triage_router\")\n",
        "email_agent=email_agent.compile()"
      ],
      "metadata": {
        "id": "6Lz_ZRDcqW40"
      },
      "execution_count": 73,
      "outputs": []
    },
    {
      "cell_type": "code",
      "source": [
        "email_agent"
      ],
      "metadata": {
        "colab": {
          "base_uri": "https://localhost:8080/",
          "height": 266
        },
        "id": "vt9OLYU1q3gb",
        "outputId": "28c7ed71-f99f-475f-fdca-44058bfb0a6a"
      },
      "execution_count": 74,
      "outputs": [
        {
          "output_type": "execute_result",
          "data": {
            "text/plain": [
              "<langgraph.graph.state.CompiledStateGraph object at 0x7a6c5f783990>"
            ],
            "image/png": "[encoded data removed]"
          },
          "metadata": {},
          "execution_count": 74
        }
      ]
    },
    {
      "cell_type": "code",
      "source": [
        "email_input={\n",
        "    \"author\": \"Marketing Team <marketing@amazingdeals.com>\",\n",
        "    \"to\": \"Rohit Gupta <guptarohit@tcs.com>\",\n",
        "    \"subject\": \"🔥 EXCLUSIVE OFFER: Limited Time Discount on Developer Tools! 🔥\",\n",
        "    \"email_thread\": \"\"\"Dear Valued Developer,\n",
        "\n",
        "Don't miss out on this INCREDIBLE opportunity!\n",
        "\n",
        "🚀 For a LIMITED TIME ONLY, get 80% OFF on our Premium Developer Suite!\n",
        "\n",
        "✨ FEATURES:\n",
        "- Revolutionary AI-powered code completion\n",
        "- Cloud-based development environment\n",
        "- 24/7 customer support\n",
        "- And much more!\n",
        "\n",
        "💰 Regular Price: $999/month\n",
        "🎉 YOUR SPECIAL PRICE: Just $199/month!\n",
        "\n",
        "🕒 Hurry! This offer expires in:\n",
        "24 HOURS ONLY!\n",
        "\n",
        "Click here to claim your discount: https://amazingdeals.com/special-offer\n",
        "\n",
        "Best regards,\n",
        "Marketing Team\n",
        "---\n",
        "To unsubscribe, click here\n",
        "\"\"\",\n",
        "}"
      ],
      "metadata": {
        "id": "Z_04mAUxq5cu"
      },
      "execution_count": 75,
      "outputs": []
    },
    {
      "cell_type": "code",
      "source": [
        "response=email_agent.invoke({\n",
        "    \"email_input\": email_input\n",
        "})"
      ],
      "metadata": {
        "colab": {
          "base_uri": "https://localhost:8080/"
        },
        "id": "ZAWyPeTsrHVz",
        "outputId": "7b4b7f95-d04d-49e4-9a1e-fe307aff8432"
      },
      "execution_count": 76,
      "outputs": [
        {
          "output_type": "stream",
          "name": "stdout",
          "text": [
            "🚫 Classification: IGNORE - This email can be safely ignored\n"
          ]
        }
      ]
    },
    {
      "cell_type": "code",
      "source": [
        "email_input = {\n",
        "    \"author\": \"Alice Smith <alice.smith@company.com>\",\n",
        "    \"to\": \"Rohit Gupta <guptarohit@tcs.com>\",\n",
        "    \"subject\": \"Quick question about API documentation\",\n",
        "    \"email_thread\": \"\"\"Hi John,\n",
        "\n",
        "I was reviewing the API documentation for the new authentication service and noticed a few endpoints seem to be missing from the specs. Could you help clarify if this was intentional or if we should update the docs?\n",
        "\n",
        "Specifically, I'm looking at:\n",
        "- /auth/refresh\n",
        "- /auth/validate\n",
        "\n",
        "Thanks!\n",
        "Alice\"\"\",\n",
        "}"
      ],
      "metadata": {
        "id": "Kopwca_-rLV4"
      },
      "execution_count": 77,
      "outputs": []
    },
    {
      "cell_type": "code",
      "source": [
        "response=email_agent.invoke({\n",
        "    \"email_input\": email_input\n",
        "})"
      ],
      "metadata": {
        "colab": {
          "base_uri": "https://localhost:8080/"
        },
        "id": "wi02NqwJrb5p",
        "outputId": "84fdf36b-57f3-41da-aad3-ed52695a7643"
      },
      "execution_count": 78,
      "outputs": [
        {
          "output_type": "stream",
          "name": "stdout",
          "text": [
            "📧 Classification: RESPOND - This email requires a response\n"
          ]
        }
      ]
    },
    {
      "cell_type": "code",
      "source": [
        "for m in response[\"messages\"]:\n",
        "    m.pretty_print()"
      ],
      "metadata": {
        "colab": {
          "base_uri": "https://localhost:8080/"
        },
        "id": "IxakNm2urdeM",
        "outputId": "2a18cc5c-8bf5-4d89-f539-35606a04882f"
      },
      "execution_count": 79,
      "outputs": [
        {
          "output_type": "stream",
          "name": "stdout",
          "text": [
            "================================\u001b[1m Human Message \u001b[0m=================================\n",
            "\n",
            "Respond to the email {'author': 'Alice Smith <alice.smith@company.com>', 'to': 'Rohit Gupta <guptarohit@tcs.com>', 'subject': 'Quick question about API documentation', 'email_thread': \"Hi John,\\n\\nI was reviewing the API documentation for the new authentication service and noticed a few endpoints seem to be missing from the specs. Could you help clarify if this was intentional or if we should update the docs?\\n\\nSpecifically, I'm looking at:\\n- /auth/refresh\\n- /auth/validate\\n\\nThanks!\\nAlice\"}\n",
            "==================================\u001b[1m Ai Message \u001b[0m==================================\n",
            "Tool Calls:\n",
            "  write_email (call_svptmlhGToCRLt73sP1xcEU4)\n",
            " Call ID: call_svptmlhGToCRLt73sP1xcEU4\n",
            "  Args:\n",
            "    to: alice.smith@company.com\n",
            "    sub: RE: Quick question about API documentation\n",
            "    content: Hi Alice,\n",
            "\n",
            "Thank you for reaching out and bringing this to my attention. I have noted the concerns regarding the missing endpoints, /auth/refresh and /auth/validate, in the API documentation for the authentication service.\n",
            "\n",
            "I'll check with the development team to confirm whether this omission was intentional or if there has been an oversight. I'll get back to you with the necessary updates as soon as possible.\n",
            "\n",
            "Thank you for your patience.\n",
            "\n",
            "Best regards,\n",
            "Rohit Gupta\n",
            "=================================\u001b[1m Tool Message \u001b[0m=================================\n",
            "Name: write_email\n",
            "\n",
            "Error: NameError(\"name 'subject' is not defined\")\n",
            " Please fix your mistakes.\n",
            "==================================\u001b[1m Ai Message \u001b[0m==================================\n",
            "Tool Calls:\n",
            "  write_email (call_L4MIM4Fe28vwkOKhuOmqFkGs)\n",
            " Call ID: call_L4MIM4Fe28vwkOKhuOmqFkGs\n",
            "  Args:\n",
            "    to: alice.smith@company.com\n",
            "    sub: RE: Quick question about API documentation\n",
            "    content: Hi Alice,\n",
            "\n",
            "Thank you for reaching out and bringing this to my attention. I have noted the concerns regarding the missing endpoints, /auth/refresh and /auth/validate, in the API documentation for the authentication service.\n",
            "\n",
            "I'll check with the development team to confirm whether this omission was intentional or if there has been an oversight. I'll get back to you with the necessary updates as soon as possible.\n",
            "\n",
            "Thank you for your patience.\n",
            "\n",
            "Best regards,\n",
            "Rohit Gupta\n",
            "=================================\u001b[1m Tool Message \u001b[0m=================================\n",
            "Name: write_email\n",
            "\n",
            "Error: NameError(\"name 'subject' is not defined\")\n",
            " Please fix your mistakes.\n",
            "==================================\u001b[1m Ai Message \u001b[0m==================================\n",
            "\n",
            "It seems there's an issue with the email handling function. Let me try a different approach to ensure your response to Alice is sent correctly.\n",
            "Tool Calls:\n",
            "  write_email (call_lBz67gLDeuEb9dg3xsAA7SG6)\n",
            " Call ID: call_lBz67gLDeuEb9dg3xsAA7SG6\n",
            "  Args:\n",
            "    to: alice.smith@company.com\n",
            "    sub: Re: Quick question about API documentation\n",
            "    content: Hi Alice,\n",
            "\n",
            "Thank you for reaching out and bringing this to my attention. I have noted the concerns regarding the missing endpoints, /auth/refresh and /auth/validate, in the API documentation for the authentication service.\n",
            "\n",
            "I'll check with the development team to confirm whether this omission was intentional or if there has been an oversight. I'll get back to you with the necessary updates as soon as possible.\n",
            "\n",
            "Thank you for your patience.\n",
            "\n",
            "Best regards,\n",
            "Rohit Gupta\n",
            "=================================\u001b[1m Tool Message \u001b[0m=================================\n",
            "Name: write_email\n",
            "\n",
            "Error: NameError(\"name 'subject' is not defined\")\n",
            " Please fix your mistakes.\n",
            "==================================\u001b[1m Ai Message \u001b[0m==================================\n",
            "\n",
            "It seems there's still an issue. Unfortunately, I'm unable to successfully send the email at this moment. However, here's a draft of the email response you can send through your email client:\n",
            "\n",
            "---\n",
            "\n",
            "Subject: Re: Quick question about API documentation\n",
            "\n",
            "Hi Alice,\n",
            "\n",
            "Thank you for reaching out and bringing this to my attention. I have noted the concerns regarding the missing endpoints, /auth/refresh and /auth/validate, in the API documentation for the authentication service.\n",
            "\n",
            "I'll check with the development team to confirm whether this omission was intentional or if there has been an oversight. I'll get back to you with the necessary updates as soon as possible.\n",
            "\n",
            "Thank you for your patience.\n",
            "\n",
            "Best regards,\n",
            "Rohit Gupta\n"
          ]
        }
      ]
    },
    {
      "cell_type": "code",
      "source": [],
      "metadata": {
        "id": "2LHBm0gTrgcu"
      },
      "execution_count": null,
      "outputs": []
    }
  ],
  "metadata": {
    "colab": {
      "provenance": [],
      "authorship_tag": "ABX9TyMTJFWodpBScigdJyw6N4Ni",
      "include_colab_link": true
    },
    "kernelspec": {
      "display_name": "Python 3",
      "name": "python3"
    },
    "language_info": {
      "name": "python"
    }
  },
  "nbformat": 4,
  "nbformat_minor": 0
}