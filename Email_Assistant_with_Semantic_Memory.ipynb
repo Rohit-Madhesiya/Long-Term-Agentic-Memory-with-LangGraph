{
  "nbformat": 4,
  "nbformat_minor": 0,
  "metadata": {
    "colab": {
      "provenance": [],
      "authorship_tag": "ABX9TyP05GzmkTID3S7hzz+Gc2E4",
      "include_colab_link": true
    },
    "kernelspec": {
      "name": "python3",
      "display_name": "Python 3"
    },
    "language_info": {
      "name": "python"
    }
  },
  "cells": [
    {
      "cell_type": "markdown",
      "metadata": {
        "id": "view-in-github",
        "colab_type": "text"
      },
      "source": [
        "<a href=\"https://colab.research.google.com/github/Rohit-Madhesiya/Long-Term-Agentic-Memory-with-LangGraph/blob/main/Email_Assistant_with_Semantic_Memory.ipynb\" target=\"_parent\"><img src=\"https://colab.research.google.com/assets/colab-badge.svg\" alt=\"Open In Colab\"/></a>"
      ]
    },
    {
      "cell_type": "code",
      "execution_count": 86,
      "metadata": {
        "id": "qsgOZEE1s6lU"
      },
      "outputs": [],
      "source": [
        "import os\n",
        "from google.colab import userdata\n",
        "os.environ['OPENAI_API_KEY']=userdata.get('OPENAI_API_KEY')"
      ]
    },
    {
      "cell_type": "code",
      "source": [
        "!pip install langchain_openai langgraph"
      ],
      "metadata": {
        "colab": {
          "base_uri": "https://localhost:8080/"
        },
        "id": "pnFs5OG5tKEN",
        "outputId": "dbf02207-1989-4ccd-ce37-7a099599b83d"
      },
      "execution_count": 87,
      "outputs": [
        {
          "output_type": "stream",
          "name": "stdout",
          "text": [
            "Requirement already satisfied: langchain_openai in /usr/local/lib/python3.11/dist-packages (0.3.9)\n",
            "Requirement already satisfied: langgraph in /usr/local/lib/python3.11/dist-packages (0.3.18)\n",
            "Requirement already satisfied: langchain-core<1.0.0,>=0.3.45 in /usr/local/lib/python3.11/dist-packages (from langchain_openai) (0.3.48)\n",
            "Requirement already satisfied: openai<2.0.0,>=1.66.3 in /usr/local/lib/python3.11/dist-packages (from langchain_openai) (1.66.3)\n",
            "Requirement already satisfied: tiktoken<1,>=0.7 in /usr/local/lib/python3.11/dist-packages (from langchain_openai) (0.9.0)\n",
            "Requirement already satisfied: langgraph-checkpoint<3.0.0,>=2.0.10 in /usr/local/lib/python3.11/dist-packages (from langgraph) (2.0.21)\n",
            "Requirement already satisfied: langgraph-prebuilt<0.2,>=0.1.1 in /usr/local/lib/python3.11/dist-packages (from langgraph) (0.1.4)\n",
            "Requirement already satisfied: langgraph-sdk<0.2.0,>=0.1.42 in /usr/local/lib/python3.11/dist-packages (from langgraph) (0.1.58)\n",
            "Requirement already satisfied: langsmith<0.4,>=0.1.125 in /usr/local/lib/python3.11/dist-packages (from langchain-core<1.0.0,>=0.3.45->langchain_openai) (0.3.15)\n",
            "Requirement already satisfied: tenacity!=8.4.0,<10.0.0,>=8.1.0 in /usr/local/lib/python3.11/dist-packages (from langchain-core<1.0.0,>=0.3.45->langchain_openai) (9.0.0)\n",
            "Requirement already satisfied: jsonpatch<2.0,>=1.33 in /usr/local/lib/python3.11/dist-packages (from langchain-core<1.0.0,>=0.3.45->langchain_openai) (1.33)\n",
            "Requirement already satisfied: PyYAML>=5.3 in /usr/local/lib/python3.11/dist-packages (from langchain-core<1.0.0,>=0.3.45->langchain_openai) (6.0.2)\n",
            "Requirement already satisfied: packaging<25,>=23.2 in /usr/local/lib/python3.11/dist-packages (from langchain-core<1.0.0,>=0.3.45->langchain_openai) (24.2)\n",
            "Requirement already satisfied: typing-extensions>=4.7 in /usr/local/lib/python3.11/dist-packages (from langchain-core<1.0.0,>=0.3.45->langchain_openai) (4.12.2)\n",
            "Requirement already satisfied: pydantic<3.0.0,>=2.5.2 in /usr/local/lib/python3.11/dist-packages (from langchain-core<1.0.0,>=0.3.45->langchain_openai) (2.10.6)\n",
            "Requirement already satisfied: msgpack<2.0.0,>=1.1.0 in /usr/local/lib/python3.11/dist-packages (from langgraph-checkpoint<3.0.0,>=2.0.10->langgraph) (1.1.0)\n",
            "Requirement already satisfied: httpx>=0.25.2 in /usr/local/lib/python3.11/dist-packages (from langgraph-sdk<0.2.0,>=0.1.42->langgraph) (0.28.1)\n",
            "Requirement already satisfied: orjson>=3.10.1 in /usr/local/lib/python3.11/dist-packages (from langgraph-sdk<0.2.0,>=0.1.42->langgraph) (3.10.15)\n",
            "Requirement already satisfied: anyio<5,>=3.5.0 in /usr/local/lib/python3.11/dist-packages (from openai<2.0.0,>=1.66.3->langchain_openai) (4.9.0)\n",
            "Requirement already satisfied: distro<2,>=1.7.0 in /usr/local/lib/python3.11/dist-packages (from openai<2.0.0,>=1.66.3->langchain_openai) (1.9.0)\n",
            "Requirement already satisfied: jiter<1,>=0.4.0 in /usr/local/lib/python3.11/dist-packages (from openai<2.0.0,>=1.66.3->langchain_openai) (0.9.0)\n",
            "Requirement already satisfied: sniffio in /usr/local/lib/python3.11/dist-packages (from openai<2.0.0,>=1.66.3->langchain_openai) (1.3.1)\n",
            "Requirement already satisfied: tqdm>4 in /usr/local/lib/python3.11/dist-packages (from openai<2.0.0,>=1.66.3->langchain_openai) (4.67.1)\n",
            "Requirement already satisfied: regex>=2022.1.18 in /usr/local/lib/python3.11/dist-packages (from tiktoken<1,>=0.7->langchain_openai) (2024.11.6)\n",
            "Requirement already satisfied: requests>=2.26.0 in /usr/local/lib/python3.11/dist-packages (from tiktoken<1,>=0.7->langchain_openai) (2.32.3)\n",
            "Requirement already satisfied: idna>=2.8 in /usr/local/lib/python3.11/dist-packages (from anyio<5,>=3.5.0->openai<2.0.0,>=1.66.3->langchain_openai) (3.10)\n",
            "Requirement already satisfied: certifi in /usr/local/lib/python3.11/dist-packages (from httpx>=0.25.2->langgraph-sdk<0.2.0,>=0.1.42->langgraph) (2025.1.31)\n",
            "Requirement already satisfied: httpcore==1.* in /usr/local/lib/python3.11/dist-packages (from httpx>=0.25.2->langgraph-sdk<0.2.0,>=0.1.42->langgraph) (1.0.7)\n",
            "Requirement already satisfied: h11<0.15,>=0.13 in /usr/local/lib/python3.11/dist-packages (from httpcore==1.*->httpx>=0.25.2->langgraph-sdk<0.2.0,>=0.1.42->langgraph) (0.14.0)\n",
            "Requirement already satisfied: jsonpointer>=1.9 in /usr/local/lib/python3.11/dist-packages (from jsonpatch<2.0,>=1.33->langchain-core<1.0.0,>=0.3.45->langchain_openai) (3.0.0)\n",
            "Requirement already satisfied: requests-toolbelt<2.0.0,>=1.0.0 in /usr/local/lib/python3.11/dist-packages (from langsmith<0.4,>=0.1.125->langchain-core<1.0.0,>=0.3.45->langchain_openai) (1.0.0)\n",
            "Requirement already satisfied: zstandard<0.24.0,>=0.23.0 in /usr/local/lib/python3.11/dist-packages (from langsmith<0.4,>=0.1.125->langchain-core<1.0.0,>=0.3.45->langchain_openai) (0.23.0)\n",
            "Requirement already satisfied: annotated-types>=0.6.0 in /usr/local/lib/python3.11/dist-packages (from pydantic<3.0.0,>=2.5.2->langchain-core<1.0.0,>=0.3.45->langchain_openai) (0.7.0)\n",
            "Requirement already satisfied: pydantic-core==2.27.2 in /usr/local/lib/python3.11/dist-packages (from pydantic<3.0.0,>=2.5.2->langchain-core<1.0.0,>=0.3.45->langchain_openai) (2.27.2)\n",
            "Requirement already satisfied: charset-normalizer<4,>=2 in /usr/local/lib/python3.11/dist-packages (from requests>=2.26.0->tiktoken<1,>=0.7->langchain_openai) (3.4.1)\n",
            "Requirement already satisfied: urllib3<3,>=1.21.1 in /usr/local/lib/python3.11/dist-packages (from requests>=2.26.0->tiktoken<1,>=0.7->langchain_openai) (2.3.0)\n"
          ]
        }
      ]
    },
    {
      "cell_type": "code",
      "source": [
        "profile={\n",
        "    \"name\":\"Rohit\",\n",
        "    \"full_name\":\"Rohit Gupta\",\n",
        "    \"user_profile_background\":\"Assistant Systems Engineer working as a Fresher in TCS\"\n",
        "}"
      ],
      "metadata": {
        "id": "PJ02A3h2tcUn"
      },
      "execution_count": 88,
      "outputs": []
    },
    {
      "cell_type": "code",
      "source": [
        "prompt_instructions={\n",
        "    \"triage_rules\":{\n",
        "        \"ignore\":\"Marketing newsletters, spam emails, mass company announcements\",\n",
        "        \"notify\":\"Team member out sick, build system notifications, project status updates\",\n",
        "        \"respond\":\"Direct questions from team members, meeting requests,critical bug reports\"\n",
        "    },\n",
        "    \"agent_instructions\":\"Use these tools when appropriate to help manage Rohit's tasks efficiently\"\n",
        "}"
      ],
      "metadata": {
        "id": "J74Ecl_uti2v"
      },
      "execution_count": 89,
      "outputs": []
    },
    {
      "cell_type": "code",
      "source": [
        "email={\n",
        "    \"from\":\"Rahul <rahul@tcs.com>\",\n",
        "    \"to\":\"Rohit Gupta <guptarohit@tcs.com\",\n",
        "    \"subject\":\"Quick question about API documentation\",\n",
        "    \"body\":\"\"\"\n",
        "    Hi Rohit,\n",
        "    I was reviewing the API documentations for the new authentication service and noticed a few endpoints seem to be missing from the specs.\n",
        "    Could you help clarify if this was intentional or if we should update the docs?\n",
        "\n",
        "    Specifically, I am looking at:\n",
        "    - /auth/login\n",
        "    - /auth/validate\n",
        "\n",
        "    Thanks!\n",
        "    Rahul\n",
        "    \"\"\"\n",
        "}"
      ],
      "metadata": {
        "id": "JLj7IDHltkjH"
      },
      "execution_count": 90,
      "outputs": []
    },
    {
      "cell_type": "code",
      "source": [
        "from pydantic import BaseModel, Field\n",
        "from typing_extensions import TypedDict, Literal, Annotated\n",
        "from langchain.chat_models import init_chat_model"
      ],
      "metadata": {
        "id": "DTPkT0YitoQV"
      },
      "execution_count": 91,
      "outputs": []
    },
    {
      "cell_type": "code",
      "source": [
        "llm=init_chat_model(\"openai:gpt-4o-mini\")"
      ],
      "metadata": {
        "id": "eeiiVwpptrs3"
      },
      "execution_count": 92,
      "outputs": []
    },
    {
      "cell_type": "code",
      "source": [
        "class Router(BaseModel):\n",
        "  \"\"\"\n",
        "  Analyze the unread email and route it according to its content\n",
        "  \"\"\"\n",
        "  reasoning:str=Field(\n",
        "      description=\"Step-by-step reasoning behind the classification\"\n",
        "  )\n",
        "  classification:Literal[\"ignore\",\"respond\",\"notify\"]=Field(\n",
        "      description=\"The classification of an email: 'ignore' for irrevelant emails, \"\n",
        "      \"'notify' for important information that doesn't nees a response, \"\n",
        "      \"'respond' for emails that need a reply\",\n",
        "  )\n"
      ],
      "metadata": {
        "id": "CuEJa7Untti7"
      },
      "execution_count": 93,
      "outputs": []
    },
    {
      "cell_type": "code",
      "source": [
        "llm_router=llm.with_structured_output(Router)"
      ],
      "metadata": {
        "id": "usDiPFrHtvoZ"
      },
      "execution_count": 94,
      "outputs": []
    },
    {
      "cell_type": "code",
      "source": [
        "from langchain.prompts import PromptTemplate\n",
        "\n",
        "\n",
        "system_prompt=PromptTemplate(\n",
        "    input_variables=[\"profile\",\"prompt_instructions\"],\n",
        "    template=\"Your system message template here, using {profile} and {prompt_instructions}\"\n",
        ")\n",
        "user_prompt=PromptTemplate(\n",
        "    input_variables=['email'],\n",
        "    template=\"Your user message template here, using {email}\"\n",
        ")"
      ],
      "metadata": {
        "id": "-uSKUEHqt3Yk"
      },
      "execution_count": 95,
      "outputs": []
    },
    {
      "cell_type": "code",
      "source": [
        "from langchain.tools import tool"
      ],
      "metadata": {
        "id": "udlEiKhyt54Q"
      },
      "execution_count": 96,
      "outputs": []
    },
    {
      "cell_type": "code",
      "source": [
        "@tool\n",
        "def write_email(to:str,subject:str,content:str)->str:\n",
        "  \"\"\"Write and send en email\"\"\"\n",
        "  return f\"Email sent to {to} with subject '{subject}' and content '{content}'\""
      ],
      "metadata": {
        "id": "RUh7Z4Ret_aW"
      },
      "execution_count": 97,
      "outputs": []
    },
    {
      "cell_type": "code",
      "source": [
        "@tool\n",
        "def schedule_meeting(attendees:str,subject:str,duration:int,day:str)->str:\n",
        "  \"\"\"Schedule a calendar meeting\"\"\"\n",
        "  return f\"Meeting '{subject}' scheduled for {day} with {len(attendees)} attendees\""
      ],
      "metadata": {
        "id": "ATHjCabvuBfn"
      },
      "execution_count": 98,
      "outputs": []
    },
    {
      "cell_type": "code",
      "source": [
        "@tool\n",
        "def check_calendar_availability(day:str)->str:\n",
        "  \"\"\"Check calendar availability for a given day\"\"\"\n",
        "  return f\"Available times on {day}: 9:00 AM, 2:00 PM, 4:00 PM\""
      ],
      "metadata": {
        "id": "SMMtvGz1uDKf"
      },
      "execution_count": 99,
      "outputs": []
    },
    {
      "cell_type": "markdown",
      "source": [
        "Tools for managing memory"
      ],
      "metadata": {
        "id": "b6wGuC2zuI2e"
      }
    },
    {
      "cell_type": "code",
      "source": [
        "from langgraph.store.memory import InMemoryStore"
      ],
      "metadata": {
        "id": "pa3-HgueuFGP"
      },
      "execution_count": 100,
      "outputs": []
    },
    {
      "cell_type": "code",
      "source": [
        "store=InMemoryStore(\n",
        "    index={\n",
        "        \"embed\":\"openai:text-embedding-3-small\"\n",
        "    }\n",
        ")"
      ],
      "metadata": {
        "id": "bZNrF_O3uM_s"
      },
      "execution_count": 101,
      "outputs": []
    },
    {
      "cell_type": "code",
      "source": [
        "!pip install langmem"
      ],
      "metadata": {
        "colab": {
          "base_uri": "https://localhost:8080/"
        },
        "id": "4teW81onudOU",
        "outputId": "299396a1-f80c-471a-d87a-4861a069b8cd"
      },
      "execution_count": 102,
      "outputs": [
        {
          "output_type": "stream",
          "name": "stdout",
          "text": [
            "Requirement already satisfied: langmem in /usr/local/lib/python3.11/dist-packages (0.0.16)\n",
            "Requirement already satisfied: langchain-anthropic>=0.3.3 in /usr/local/lib/python3.11/dist-packages (from langmem) (0.3.10)\n",
            "Requirement already satisfied: langchain-core>=0.3.46 in /usr/local/lib/python3.11/dist-packages (from langmem) (0.3.48)\n",
            "Requirement already satisfied: langchain-openai>=0.3.1 in /usr/local/lib/python3.11/dist-packages (from langmem) (0.3.9)\n",
            "Requirement already satisfied: langchain>=0.3.15 in /usr/local/lib/python3.11/dist-packages (from langmem) (0.3.20)\n",
            "Requirement already satisfied: langgraph-checkpoint>=2.0.12 in /usr/local/lib/python3.11/dist-packages (from langmem) (2.0.21)\n",
            "Requirement already satisfied: langgraph>=0.2.66 in /usr/local/lib/python3.11/dist-packages (from langmem) (0.3.18)\n",
            "Requirement already satisfied: langsmith>=0.3.8 in /usr/local/lib/python3.11/dist-packages (from langmem) (0.3.15)\n",
            "Requirement already satisfied: trustcall>=0.0.37 in /usr/local/lib/python3.11/dist-packages (from langmem) (0.0.38)\n",
            "Requirement already satisfied: langchain-text-splitters<1.0.0,>=0.3.6 in /usr/local/lib/python3.11/dist-packages (from langchain>=0.3.15->langmem) (0.3.6)\n",
            "Requirement already satisfied: pydantic<3.0.0,>=2.7.4 in /usr/local/lib/python3.11/dist-packages (from langchain>=0.3.15->langmem) (2.10.6)\n",
            "Requirement already satisfied: SQLAlchemy<3,>=1.4 in /usr/local/lib/python3.11/dist-packages (from langchain>=0.3.15->langmem) (2.0.39)\n",
            "Requirement already satisfied: requests<3,>=2 in /usr/local/lib/python3.11/dist-packages (from langchain>=0.3.15->langmem) (2.32.3)\n",
            "Requirement already satisfied: PyYAML>=5.3 in /usr/local/lib/python3.11/dist-packages (from langchain>=0.3.15->langmem) (6.0.2)\n",
            "Requirement already satisfied: anthropic<1,>=0.49.0 in /usr/local/lib/python3.11/dist-packages (from langchain-anthropic>=0.3.3->langmem) (0.49.0)\n",
            "Requirement already satisfied: tenacity!=8.4.0,<10.0.0,>=8.1.0 in /usr/local/lib/python3.11/dist-packages (from langchain-core>=0.3.46->langmem) (9.0.0)\n",
            "Requirement already satisfied: jsonpatch<2.0,>=1.33 in /usr/local/lib/python3.11/dist-packages (from langchain-core>=0.3.46->langmem) (1.33)\n",
            "Requirement already satisfied: packaging<25,>=23.2 in /usr/local/lib/python3.11/dist-packages (from langchain-core>=0.3.46->langmem) (24.2)\n",
            "Requirement already satisfied: typing-extensions>=4.7 in /usr/local/lib/python3.11/dist-packages (from langchain-core>=0.3.46->langmem) (4.12.2)\n",
            "Requirement already satisfied: openai<2.0.0,>=1.66.3 in /usr/local/lib/python3.11/dist-packages (from langchain-openai>=0.3.1->langmem) (1.66.3)\n",
            "Requirement already satisfied: tiktoken<1,>=0.7 in /usr/local/lib/python3.11/dist-packages (from langchain-openai>=0.3.1->langmem) (0.9.0)\n",
            "Requirement already satisfied: langgraph-prebuilt<0.2,>=0.1.1 in /usr/local/lib/python3.11/dist-packages (from langgraph>=0.2.66->langmem) (0.1.4)\n",
            "Requirement already satisfied: langgraph-sdk<0.2.0,>=0.1.42 in /usr/local/lib/python3.11/dist-packages (from langgraph>=0.2.66->langmem) (0.1.58)\n",
            "Requirement already satisfied: msgpack<2.0.0,>=1.1.0 in /usr/local/lib/python3.11/dist-packages (from langgraph-checkpoint>=2.0.12->langmem) (1.1.0)\n",
            "Requirement already satisfied: httpx<1,>=0.23.0 in /usr/local/lib/python3.11/dist-packages (from langsmith>=0.3.8->langmem) (0.28.1)\n",
            "Requirement already satisfied: orjson<4.0.0,>=3.9.14 in /usr/local/lib/python3.11/dist-packages (from langsmith>=0.3.8->langmem) (3.10.15)\n",
            "Requirement already satisfied: requests-toolbelt<2.0.0,>=1.0.0 in /usr/local/lib/python3.11/dist-packages (from langsmith>=0.3.8->langmem) (1.0.0)\n",
            "Requirement already satisfied: zstandard<0.24.0,>=0.23.0 in /usr/local/lib/python3.11/dist-packages (from langsmith>=0.3.8->langmem) (0.23.0)\n",
            "Requirement already satisfied: dydantic<1.0.0,>=0.0.8 in /usr/local/lib/python3.11/dist-packages (from trustcall>=0.0.37->langmem) (0.0.8)\n",
            "Requirement already satisfied: anyio<5,>=3.5.0 in /usr/local/lib/python3.11/dist-packages (from anthropic<1,>=0.49.0->langchain-anthropic>=0.3.3->langmem) (4.9.0)\n",
            "Requirement already satisfied: distro<2,>=1.7.0 in /usr/local/lib/python3.11/dist-packages (from anthropic<1,>=0.49.0->langchain-anthropic>=0.3.3->langmem) (1.9.0)\n",
            "Requirement already satisfied: jiter<1,>=0.4.0 in /usr/local/lib/python3.11/dist-packages (from anthropic<1,>=0.49.0->langchain-anthropic>=0.3.3->langmem) (0.9.0)\n",
            "Requirement already satisfied: sniffio in /usr/local/lib/python3.11/dist-packages (from anthropic<1,>=0.49.0->langchain-anthropic>=0.3.3->langmem) (1.3.1)\n",
            "Requirement already satisfied: certifi in /usr/local/lib/python3.11/dist-packages (from httpx<1,>=0.23.0->langsmith>=0.3.8->langmem) (2025.1.31)\n",
            "Requirement already satisfied: httpcore==1.* in /usr/local/lib/python3.11/dist-packages (from httpx<1,>=0.23.0->langsmith>=0.3.8->langmem) (1.0.7)\n",
            "Requirement already satisfied: idna in /usr/local/lib/python3.11/dist-packages (from httpx<1,>=0.23.0->langsmith>=0.3.8->langmem) (3.10)\n",
            "Requirement already satisfied: h11<0.15,>=0.13 in /usr/local/lib/python3.11/dist-packages (from httpcore==1.*->httpx<1,>=0.23.0->langsmith>=0.3.8->langmem) (0.14.0)\n",
            "Requirement already satisfied: jsonpointer>=1.9 in /usr/local/lib/python3.11/dist-packages (from jsonpatch<2.0,>=1.33->langchain-core>=0.3.46->langmem) (3.0.0)\n",
            "Requirement already satisfied: tqdm>4 in /usr/local/lib/python3.11/dist-packages (from openai<2.0.0,>=1.66.3->langchain-openai>=0.3.1->langmem) (4.67.1)\n",
            "Requirement already satisfied: annotated-types>=0.6.0 in /usr/local/lib/python3.11/dist-packages (from pydantic<3.0.0,>=2.7.4->langchain>=0.3.15->langmem) (0.7.0)\n",
            "Requirement already satisfied: pydantic-core==2.27.2 in /usr/local/lib/python3.11/dist-packages (from pydantic<3.0.0,>=2.7.4->langchain>=0.3.15->langmem) (2.27.2)\n",
            "Requirement already satisfied: charset-normalizer<4,>=2 in /usr/local/lib/python3.11/dist-packages (from requests<3,>=2->langchain>=0.3.15->langmem) (3.4.1)\n",
            "Requirement already satisfied: urllib3<3,>=1.21.1 in /usr/local/lib/python3.11/dist-packages (from requests<3,>=2->langchain>=0.3.15->langmem) (2.3.0)\n",
            "Requirement already satisfied: greenlet!=0.4.17 in /usr/local/lib/python3.11/dist-packages (from SQLAlchemy<3,>=1.4->langchain>=0.3.15->langmem) (3.1.1)\n",
            "Requirement already satisfied: regex>=2022.1.18 in /usr/local/lib/python3.11/dist-packages (from tiktoken<1,>=0.7->langchain-openai>=0.3.1->langmem) (2024.11.6)\n"
          ]
        }
      ]
    },
    {
      "cell_type": "code",
      "source": [
        "from langmem import create_manage_memory_tool,create_search_memory_tool"
      ],
      "metadata": {
        "id": "DZLdUax8uTuQ"
      },
      "execution_count": 103,
      "outputs": []
    },
    {
      "cell_type": "code",
      "source": [
        "manage_memory_tool=create_manage_memory_tool(\n",
        "    namespace=(\n",
        "        \"email_assistant\",\n",
        "        \"{langgraph_user_id}\",\n",
        "        \"collection\"\n",
        "    )\n",
        ")\n",
        "\n",
        "search_memory_tool=create_search_memory_tool(\n",
        "    namespace=(\n",
        "        \"email_assistant\",\n",
        "        \"{langgraph_user_id}\",\n",
        "        \"collection\"\n",
        "    )\n",
        ")"
      ],
      "metadata": {
        "id": "B18Uh0bQuZY9"
      },
      "execution_count": 104,
      "outputs": []
    },
    {
      "cell_type": "code",
      "source": [
        "print(manage_memory_tool.name)"
      ],
      "metadata": {
        "colab": {
          "base_uri": "https://localhost:8080/"
        },
        "id": "KxPbJwjKuzVj",
        "outputId": "0f8c575d-0aad-4aed-8b5a-a4e82ebcbc2e"
      },
      "execution_count": 105,
      "outputs": [
        {
          "output_type": "stream",
          "name": "stdout",
          "text": [
            "manage_memory\n"
          ]
        }
      ]
    },
    {
      "cell_type": "code",
      "source": [
        "print(manage_memory_tool.description)"
      ],
      "metadata": {
        "colab": {
          "base_uri": "https://localhost:8080/"
        },
        "id": "TNUbS1w1u2jB",
        "outputId": "06f66711-fb58-4090-837d-e9e76ad96587"
      },
      "execution_count": 106,
      "outputs": [
        {
          "output_type": "stream",
          "name": "stdout",
          "text": [
            "Create, update, or delete persistent MEMORIES to persist across conversations.\n",
            "Include the MEMORY ID when updating or deleting a MEMORY. Omit when creating a new MEMORY - it will be created for you.\n",
            "Proactively call this tool when you:\n",
            "\n",
            "1. Identify a new USER preference.\n",
            "2. Receive an explicit USER request to remember something or otherwise alter your behavior.\n",
            "3. Are working and want to record important context.\n",
            "4. Identify that an existing MEMORY is incorrect or outdated.\n"
          ]
        }
      ]
    },
    {
      "cell_type": "code",
      "source": [
        "manage_memory_tool.args"
      ],
      "metadata": {
        "colab": {
          "base_uri": "https://localhost:8080/"
        },
        "id": "_-VTsAdsu5K5",
        "outputId": "c4ad0065-99c9-4779-c7c0-8e34e8959e19"
      },
      "execution_count": 107,
      "outputs": [
        {
          "output_type": "execute_result",
          "data": {
            "text/plain": [
              "{'content': {'anyOf': [{'type': 'string'}, {'type': 'null'}],\n",
              "  'default': None,\n",
              "  'title': 'Content'},\n",
              " 'action': {'default': 'create',\n",
              "  'enum': ['create', 'update', 'delete'],\n",
              "  'title': 'Action',\n",
              "  'type': 'string'},\n",
              " 'id': {'anyOf': [{'format': 'uuid', 'type': 'string'}, {'type': 'null'}],\n",
              "  'default': None,\n",
              "  'title': 'Id'}}"
            ]
          },
          "metadata": {},
          "execution_count": 107
        }
      ]
    },
    {
      "cell_type": "code",
      "source": [
        "search_memory_tool.name"
      ],
      "metadata": {
        "colab": {
          "base_uri": "https://localhost:8080/",
          "height": 36
        },
        "id": "GCFNJY09u881",
        "outputId": "85811588-7361-457a-fa13-00631de93d07"
      },
      "execution_count": 108,
      "outputs": [
        {
          "output_type": "execute_result",
          "data": {
            "text/plain": [
              "'search_memory'"
            ],
            "application/vnd.google.colaboratory.intrinsic+json": {
              "type": "string"
            }
          },
          "metadata": {},
          "execution_count": 108
        }
      ]
    },
    {
      "cell_type": "code",
      "source": [
        "search_memory_tool.description"
      ],
      "metadata": {
        "colab": {
          "base_uri": "https://localhost:8080/",
          "height": 54
        },
        "id": "jRm4bq4ivAHW",
        "outputId": "771211f0-eee9-4c03-bf3c-a0b5ce43af8f"
      },
      "execution_count": 109,
      "outputs": [
        {
          "output_type": "execute_result",
          "data": {
            "text/plain": [
              "'Search your long-term memories for information relevant to your current context.'"
            ],
            "application/vnd.google.colaboratory.intrinsic+json": {
              "type": "string"
            }
          },
          "metadata": {},
          "execution_count": 109
        }
      ]
    },
    {
      "cell_type": "code",
      "source": [
        "search_memory_tool.args"
      ],
      "metadata": {
        "colab": {
          "base_uri": "https://localhost:8080/"
        },
        "id": "BSLmkz54vB5m",
        "outputId": "3b001e83-50bf-4257-c035-2d789e511fb3"
      },
      "execution_count": 110,
      "outputs": [
        {
          "output_type": "execute_result",
          "data": {
            "text/plain": [
              "{'query': {'title': 'Query', 'type': 'string'},\n",
              " 'limit': {'default': 10, 'title': 'Limit', 'type': 'integer'},\n",
              " 'offset': {'default': 0, 'title': 'Offset', 'type': 'integer'},\n",
              " 'filter': {'anyOf': [{'type': 'object'}, {'type': 'null'}],\n",
              "  'default': None,\n",
              "  'title': 'Filter'}}"
            ]
          },
          "metadata": {},
          "execution_count": 110
        }
      ]
    },
    {
      "cell_type": "code",
      "source": [
        "agent_system_prompt_memory=\"\"\"\n",
        "<Role>\n",
        "You are {full_name}'s executive assistant. You are a top-notch executive assistant who cares about\n",
        "{name} performing as well as possible\n",
        "</Role>\n",
        "\n",
        "<Tools>\n",
        "You have access to the following tools to help manage {name}'s communications and schedule:\n",
        "1. write_email(to,subject,content) - Send emails to specified recipients\n",
        "2. schedule_meeting(attendees,subject,duration,day) - Schedule calendar meetings\n",
        "3. check_calendar_availability(day) - Check available time slots for a given day\n",
        "4. manage_memory - Store any relevant information about Contacts, actions, dicussion, etc. in memory for future reference\n",
        "5. search_memory - Search for any relevant information that may have been stored in memory\n",
        "</Tools>\n",
        "\n",
        "<Instructions>\n",
        "{instructions}\n",
        "</Instructions>\n",
        "\"\"\""
      ],
      "metadata": {
        "id": "lTWRBrNyvDzw"
      },
      "execution_count": 111,
      "outputs": []
    },
    {
      "cell_type": "code",
      "source": [
        "def create_prompt(state):\n",
        "  return [{\n",
        "      \"role\":\"system\",\n",
        "      \"content\":agent_system_prompt_memory.format(\n",
        "          instructions=prompt_instructions['agent_instructions'],\n",
        "          **profile\n",
        "      )\n",
        "  }]+state['messages']"
      ],
      "metadata": {
        "id": "iOy4Q0bRwaJ1"
      },
      "execution_count": 112,
      "outputs": []
    },
    {
      "cell_type": "code",
      "source": [
        "from langgraph.prebuilt import create_react_agent"
      ],
      "metadata": {
        "id": "075HeesTwspN"
      },
      "execution_count": 113,
      "outputs": []
    },
    {
      "cell_type": "code",
      "source": [
        "tools=[\n",
        "    write_email,\n",
        "    schedule_meeting,\n",
        "    check_calendar_availability,\n",
        "    manage_memory_tool,\n",
        "    search_memory_tool\n",
        "]"
      ],
      "metadata": {
        "id": "WY5dYJ4xwwGy"
      },
      "execution_count": 114,
      "outputs": []
    },
    {
      "cell_type": "code",
      "source": [
        "!pip install langchain_groq"
      ],
      "metadata": {
        "colab": {
          "base_uri": "https://localhost:8080/"
        },
        "id": "5VbFArNC7esz",
        "outputId": "0c355c1b-b3ec-4da3-9b43-3be61c1e66b4"
      },
      "execution_count": 115,
      "outputs": [
        {
          "output_type": "stream",
          "name": "stdout",
          "text": [
            "Requirement already satisfied: langchain_groq in /usr/local/lib/python3.11/dist-packages (0.3.1)\n",
            "Requirement already satisfied: langchain-core<1.0.0,>=0.3.47 in /usr/local/lib/python3.11/dist-packages (from langchain_groq) (0.3.48)\n",
            "Requirement already satisfied: groq<1,>=0.4.1 in /usr/local/lib/python3.11/dist-packages (from langchain_groq) (0.20.0)\n",
            "Requirement already satisfied: anyio<5,>=3.5.0 in /usr/local/lib/python3.11/dist-packages (from groq<1,>=0.4.1->langchain_groq) (4.9.0)\n",
            "Requirement already satisfied: distro<2,>=1.7.0 in /usr/local/lib/python3.11/dist-packages (from groq<1,>=0.4.1->langchain_groq) (1.9.0)\n",
            "Requirement already satisfied: httpx<1,>=0.23.0 in /usr/local/lib/python3.11/dist-packages (from groq<1,>=0.4.1->langchain_groq) (0.28.1)\n",
            "Requirement already satisfied: pydantic<3,>=1.9.0 in /usr/local/lib/python3.11/dist-packages (from groq<1,>=0.4.1->langchain_groq) (2.10.6)\n",
            "Requirement already satisfied: sniffio in /usr/local/lib/python3.11/dist-packages (from groq<1,>=0.4.1->langchain_groq) (1.3.1)\n",
            "Requirement already satisfied: typing-extensions<5,>=4.10 in /usr/local/lib/python3.11/dist-packages (from groq<1,>=0.4.1->langchain_groq) (4.12.2)\n",
            "Requirement already satisfied: langsmith<0.4,>=0.1.125 in /usr/local/lib/python3.11/dist-packages (from langchain-core<1.0.0,>=0.3.47->langchain_groq) (0.3.15)\n",
            "Requirement already satisfied: tenacity!=8.4.0,<10.0.0,>=8.1.0 in /usr/local/lib/python3.11/dist-packages (from langchain-core<1.0.0,>=0.3.47->langchain_groq) (9.0.0)\n",
            "Requirement already satisfied: jsonpatch<2.0,>=1.33 in /usr/local/lib/python3.11/dist-packages (from langchain-core<1.0.0,>=0.3.47->langchain_groq) (1.33)\n",
            "Requirement already satisfied: PyYAML>=5.3 in /usr/local/lib/python3.11/dist-packages (from langchain-core<1.0.0,>=0.3.47->langchain_groq) (6.0.2)\n",
            "Requirement already satisfied: packaging<25,>=23.2 in /usr/local/lib/python3.11/dist-packages (from langchain-core<1.0.0,>=0.3.47->langchain_groq) (24.2)\n",
            "Requirement already satisfied: idna>=2.8 in /usr/local/lib/python3.11/dist-packages (from anyio<5,>=3.5.0->groq<1,>=0.4.1->langchain_groq) (3.10)\n",
            "Requirement already satisfied: certifi in /usr/local/lib/python3.11/dist-packages (from httpx<1,>=0.23.0->groq<1,>=0.4.1->langchain_groq) (2025.1.31)\n",
            "Requirement already satisfied: httpcore==1.* in /usr/local/lib/python3.11/dist-packages (from httpx<1,>=0.23.0->groq<1,>=0.4.1->langchain_groq) (1.0.7)\n",
            "Requirement already satisfied: h11<0.15,>=0.13 in /usr/local/lib/python3.11/dist-packages (from httpcore==1.*->httpx<1,>=0.23.0->groq<1,>=0.4.1->langchain_groq) (0.14.0)\n",
            "Requirement already satisfied: jsonpointer>=1.9 in /usr/local/lib/python3.11/dist-packages (from jsonpatch<2.0,>=1.33->langchain-core<1.0.0,>=0.3.47->langchain_groq) (3.0.0)\n",
            "Requirement already satisfied: orjson<4.0.0,>=3.9.14 in /usr/local/lib/python3.11/dist-packages (from langsmith<0.4,>=0.1.125->langchain-core<1.0.0,>=0.3.47->langchain_groq) (3.10.15)\n",
            "Requirement already satisfied: requests<3,>=2 in /usr/local/lib/python3.11/dist-packages (from langsmith<0.4,>=0.1.125->langchain-core<1.0.0,>=0.3.47->langchain_groq) (2.32.3)\n",
            "Requirement already satisfied: requests-toolbelt<2.0.0,>=1.0.0 in /usr/local/lib/python3.11/dist-packages (from langsmith<0.4,>=0.1.125->langchain-core<1.0.0,>=0.3.47->langchain_groq) (1.0.0)\n",
            "Requirement already satisfied: zstandard<0.24.0,>=0.23.0 in /usr/local/lib/python3.11/dist-packages (from langsmith<0.4,>=0.1.125->langchain-core<1.0.0,>=0.3.47->langchain_groq) (0.23.0)\n",
            "Requirement already satisfied: annotated-types>=0.6.0 in /usr/local/lib/python3.11/dist-packages (from pydantic<3,>=1.9.0->groq<1,>=0.4.1->langchain_groq) (0.7.0)\n",
            "Requirement already satisfied: pydantic-core==2.27.2 in /usr/local/lib/python3.11/dist-packages (from pydantic<3,>=1.9.0->groq<1,>=0.4.1->langchain_groq) (2.27.2)\n",
            "Requirement already satisfied: charset-normalizer<4,>=2 in /usr/local/lib/python3.11/dist-packages (from requests<3,>=2->langsmith<0.4,>=0.1.125->langchain-core<1.0.0,>=0.3.47->langchain_groq) (3.4.1)\n",
            "Requirement already satisfied: urllib3<3,>=1.21.1 in /usr/local/lib/python3.11/dist-packages (from requests<3,>=2->langsmith<0.4,>=0.1.125->langchain-core<1.0.0,>=0.3.47->langchain_groq) (2.3.0)\n"
          ]
        }
      ]
    },
    {
      "cell_type": "code",
      "source": [
        "from langchain_groq import ChatGroq\n",
        "os.environ['GROQ_API_KEY']=userdata.get('GROQ_API_KEY')\n",
        "model=ChatGroq(model=\"deepseek-r1-distill-llama-70b\")"
      ],
      "metadata": {
        "id": "sLKszRU468nB"
      },
      "execution_count": 116,
      "outputs": []
    },
    {
      "cell_type": "code",
      "source": [
        "response_agent=create_react_agent(\n",
        "    model=model,\n",
        "    tools=tools,\n",
        "    prompt=create_prompt,\n",
        "    store=store\n",
        ")"
      ],
      "metadata": {
        "id": "vK-x2R6Nw8PH"
      },
      "execution_count": 117,
      "outputs": []
    },
    {
      "cell_type": "code",
      "source": [
        "config={\n",
        "    \"configurable\":{'langgraph_user_id':\"session123\"}\n",
        "}"
      ],
      "metadata": {
        "id": "XctKM3E7xJuN"
      },
      "execution_count": 118,
      "outputs": []
    },
    {
      "cell_type": "code",
      "source": [
        "response=response_agent.invoke(\n",
        "    {\"messages\":[{\"role\":\"user\",\"content\":\"Rahul is my friend\"}]},\n",
        "    config=config\n",
        ")"
      ],
      "metadata": {
        "id": "k8p62fzVxT2t"
      },
      "execution_count": 119,
      "outputs": []
    },
    {
      "cell_type": "code",
      "source": [
        "for m in response['messages']:\n",
        "  m.pretty_print()"
      ],
      "metadata": {
        "colab": {
          "base_uri": "https://localhost:8080/"
        },
        "id": "HzYJdwRJxiKJ",
        "outputId": "5d5e7936-f71a-448e-edf8-cd4c0f24949d"
      },
      "execution_count": 120,
      "outputs": [
        {
          "output_type": "stream",
          "name": "stdout",
          "text": [
            "================================\u001b[1m Human Message \u001b[0m=================================\n",
            "\n",
            "Rahul is my friend\n",
            "==================================\u001b[1m Ai Message \u001b[0m==================================\n",
            "Tool Calls:\n",
            "  manage_memory (call_005n)\n",
            " Call ID: call_005n\n",
            "  Args:\n",
            "    action: create\n",
            "    content: {\"name\": \"Rahul\", \"relationship\": \"friend\"}\n",
            "=================================\u001b[1m Tool Message \u001b[0m=================================\n",
            "Name: manage_memory\n",
            "\n",
            "created memory 22f14197-af40-4d57-83dd-f2e278b68f17\n",
            "==================================\u001b[1m Ai Message \u001b[0m==================================\n",
            "Tool Calls:\n",
            "  manage_memory (call_1rg7)\n",
            " Call ID: call_1rg7\n",
            "  Args:\n",
            "    action: create\n",
            "    content: {\"name\": \"Rahul\", \"relationship\": \"friend\"}\n",
            "=================================\u001b[1m Tool Message \u001b[0m=================================\n",
            "Name: manage_memory\n",
            "\n",
            "created memory 7906f4a9-ee78-40f2-aa3f-57eb645905cd\n",
            "==================================\u001b[1m Ai Message \u001b[0m==================================\n",
            "Tool Calls:\n",
            "  manage_memory (call_dvge)\n",
            " Call ID: call_dvge\n",
            "  Args:\n",
            "    action: create\n",
            "    content: {\"name\": \"Rahul\", \"relationship\": \"friend\"}\n",
            "=================================\u001b[1m Tool Message \u001b[0m=================================\n",
            "Name: manage_memory\n",
            "\n",
            "created memory d80df7be-174e-4ad7-81da-96ac3304ce96\n",
            "==================================\u001b[1m Ai Message \u001b[0m==================================\n",
            "\n",
            "\n",
            "\n",
            "It seems like you're trying to store information about Rahul being your friend. Let me help you manage that memory effectively. How would you like to proceed?\n"
          ]
        }
      ]
    },
    {
      "cell_type": "code",
      "source": [
        "response=response_agent.invoke(\n",
        "    {\"messages\":[{\"role\":\"user\",\"content\":\"Who is Rahul?\"}]},\n",
        "    config=config\n",
        ")"
      ],
      "metadata": {
        "id": "m0K0fqU8xmrH"
      },
      "execution_count": 121,
      "outputs": []
    },
    {
      "cell_type": "code",
      "source": [
        "for m in response['messages']:\n",
        "  m.pretty_print()"
      ],
      "metadata": {
        "colab": {
          "base_uri": "https://localhost:8080/"
        },
        "id": "oN16YmkoxyfY",
        "outputId": "b9d6bee8-d6bf-4bde-acfb-7def1b7c283c"
      },
      "execution_count": 122,
      "outputs": [
        {
          "output_type": "stream",
          "name": "stdout",
          "text": [
            "================================\u001b[1m Human Message \u001b[0m=================================\n",
            "\n",
            "Who is Rahul?\n",
            "==================================\u001b[1m Ai Message \u001b[0m==================================\n",
            "Tool Calls:\n",
            "  search_memory (call_qebv)\n",
            " Call ID: call_qebv\n",
            "  Args:\n",
            "    query: Rahul\n",
            "=================================\u001b[1m Tool Message \u001b[0m=================================\n",
            "Name: search_memory\n",
            "\n",
            "[{\"namespace\": [\"email_assistant\", \"session123\", \"collection\"], \"key\": \"7906f4a9-ee78-40f2-aa3f-57eb645905cd\", \"value\": {\"content\": \"{\\\"name\\\": \\\"Rahul\\\", \\\"relationship\\\": \\\"friend\\\"}\"}, \"created_at\": \"2025-03-24T16:34:27.609436+00:00\", \"updated_at\": \"2025-03-24T16:34:27.609442+00:00\", \"score\": 0.5347892568097516}, {\"namespace\": [\"email_assistant\", \"session123\", \"collection\"], \"key\": \"22f14197-af40-4d57-83dd-f2e278b68f17\", \"value\": {\"content\": \"{\\\"name\\\": \\\"Rahul\\\", \\\"relationship\\\": \\\"friend\\\"}\"}, \"created_at\": \"2025-03-24T16:34:25.208122+00:00\", \"updated_at\": \"2025-03-24T16:34:25.208127+00:00\", \"score\": 0.5347888597734112}, {\"namespace\": [\"email_assistant\", \"session123\", \"collection\"], \"key\": \"d80df7be-174e-4ad7-81da-96ac3304ce96\", \"value\": {\"content\": \"{\\\"name\\\": \\\"Rahul\\\", \\\"relationship\\\": \\\"friend\\\"}\"}, \"created_at\": \"2025-03-24T16:34:30.480970+00:00\", \"updated_at\": \"2025-03-24T16:34:30.480976+00:00\", \"score\": 0.5347690747462783}]\n",
            "==================================\u001b[1m Ai Message \u001b[0m==================================\n",
            "\n",
            "Rahul is identified as a friend of Rohit's. This information helps in managing Rohit's communications and schedule appropriately, ensuring that interactions with Rahul are handled with the suitable priority and tone.\n"
          ]
        }
      ]
    },
    {
      "cell_type": "code",
      "source": [
        "store.list_namespaces()"
      ],
      "metadata": {
        "colab": {
          "base_uri": "https://localhost:8080/"
        },
        "id": "8fuCaKwAx3jA",
        "outputId": "f8e8dee7-6253-4aad-978a-e0240b5b2d3d"
      },
      "execution_count": 123,
      "outputs": [
        {
          "output_type": "execute_result",
          "data": {
            "text/plain": [
              "[('email_assistant', 'session123', 'collection')]"
            ]
          },
          "metadata": {},
          "execution_count": 123
        }
      ]
    },
    {
      "cell_type": "code",
      "source": [
        "store.search(('email_assistant',\"session123\",\"collection\"))"
      ],
      "metadata": {
        "colab": {
          "base_uri": "https://localhost:8080/"
        },
        "id": "pOOPb4lzyDsB",
        "outputId": "b68cc365-7c1a-4945-d9d1-6fac60697503"
      },
      "execution_count": 124,
      "outputs": [
        {
          "output_type": "execute_result",
          "data": {
            "text/plain": [
              "[Item(namespace=['email_assistant', 'session123', 'collection'], key='22f14197-af40-4d57-83dd-f2e278b68f17', value={'content': '{\"name\": \"Rahul\", \"relationship\": \"friend\"}'}, created_at='2025-03-24T16:34:25.208122+00:00', updated_at='2025-03-24T16:34:25.208127+00:00', score=None),\n",
              " Item(namespace=['email_assistant', 'session123', 'collection'], key='7906f4a9-ee78-40f2-aa3f-57eb645905cd', value={'content': '{\"name\": \"Rahul\", \"relationship\": \"friend\"}'}, created_at='2025-03-24T16:34:27.609436+00:00', updated_at='2025-03-24T16:34:27.609442+00:00', score=None),\n",
              " Item(namespace=['email_assistant', 'session123', 'collection'], key='d80df7be-174e-4ad7-81da-96ac3304ce96', value={'content': '{\"name\": \"Rahul\", \"relationship\": \"friend\"}'}, created_at='2025-03-24T16:34:30.480970+00:00', updated_at='2025-03-24T16:34:30.480976+00:00', score=None)]"
            ]
          },
          "metadata": {},
          "execution_count": 124
        }
      ]
    },
    {
      "cell_type": "code",
      "source": [
        "store.search((\"email_assistant\",\"session123\",\"collection\"),query='Rahul')"
      ],
      "metadata": {
        "colab": {
          "base_uri": "https://localhost:8080/"
        },
        "id": "fJIfXf7xyJDT",
        "outputId": "eb5cb435-97d3-4c83-8e4d-f7d8a33f3059"
      },
      "execution_count": 125,
      "outputs": [
        {
          "output_type": "execute_result",
          "data": {
            "text/plain": [
              "[Item(namespace=['email_assistant', 'session123', 'collection'], key='7906f4a9-ee78-40f2-aa3f-57eb645905cd', value={'content': '{\"name\": \"Rahul\", \"relationship\": \"friend\"}'}, created_at='2025-03-24T16:34:27.609436+00:00', updated_at='2025-03-24T16:34:27.609442+00:00', score=0.5347892568097516),\n",
              " Item(namespace=['email_assistant', 'session123', 'collection'], key='22f14197-af40-4d57-83dd-f2e278b68f17', value={'content': '{\"name\": \"Rahul\", \"relationship\": \"friend\"}'}, created_at='2025-03-24T16:34:25.208122+00:00', updated_at='2025-03-24T16:34:25.208127+00:00', score=0.5347888597734112),\n",
              " Item(namespace=['email_assistant', 'session123', 'collection'], key='d80df7be-174e-4ad7-81da-96ac3304ce96', value={'content': '{\"name\": \"Rahul\", \"relationship\": \"friend\"}'}, created_at='2025-03-24T16:34:30.480970+00:00', updated_at='2025-03-24T16:34:30.480976+00:00', score=0.5347690747462783)]"
            ]
          },
          "metadata": {},
          "execution_count": 125
        }
      ]
    },
    {
      "cell_type": "markdown",
      "source": [
        "Rest of the Agent"
      ],
      "metadata": {
        "id": "7YjHGSU38hY4"
      }
    },
    {
      "cell_type": "code",
      "source": [
        "  from langgraph.graph import add_messages\n",
        "\n",
        "  class State(TypedDict):\n",
        "    email_input:dict\n",
        "    messages:Annotated[list,add_messages]"
      ],
      "metadata": {
        "id": "HNvQh8u-yR65"
      },
      "execution_count": 126,
      "outputs": []
    },
    {
      "cell_type": "code",
      "source": [
        "from langgraph.graph import START,END,StateGraph\n",
        "from langgraph.types import Command\n",
        "from typing import Literal"
      ],
      "metadata": {
        "id": "MLubBKxq82jS"
      },
      "execution_count": 127,
      "outputs": []
    },
    {
      "cell_type": "code",
      "source": [
        "def triage_router(state:State)->Command[Literal['response_agent','__end__']]:\n",
        "  author=state['email_input']['author']\n",
        "  to=state['email_input']['to']\n",
        "  subject=state['email_input']['subject']\n",
        "  email_thread=state['email_input']['email_thread']\n",
        "\n",
        "  system_prompt=PromptTemplate(\n",
        "    input_variables=[\"profile\",\"prompt_instructions\"],\n",
        "    template=\"Your system message template here, using {profile} and {prompt_instructions}\"\n",
        "  )\n",
        "  email_input={\n",
        "      author:author,\n",
        "      to:to,\n",
        "      subject:subject,\n",
        "      email_thread:email_thread\n",
        "  }\n",
        "  user_prompt=PromptTemplate(\n",
        "    input_variables=['email'],\n",
        "    template=\"Your user message template here, using {email}\"\n",
        "  )\n",
        "\n",
        "  result=llm_router.invoke(\n",
        "    [\n",
        "        {'role':\"system\",'content':system_prompt.format(profile=profile,prompt_instructions=prompt_instructions)},\n",
        "        {'role':\"user\",'content':user_prompt.format(email=email_input)}\n",
        "    ]\n",
        "  )\n",
        "\n",
        "  if result.classification=='respond':\n",
        "    print(\"📧 Classification: RESPOND - This email requires a response\")\n",
        "    goto =\"response_agent\"\n",
        "    update={\n",
        "        \"messages\":[{\n",
        "            \"role\":\"user\",\n",
        "            \"content\":f\"Respond to the email {state['email_input']}\"\n",
        "        }]\n",
        "    }\n",
        "  elif result.classification=='ignore':\n",
        "    print(\"🚫 Classification: IGNORE - This email can be safely ignored\")\n",
        "    update=None\n",
        "    goto=END\n",
        "  elif result.classification=='notify':\n",
        "    print(\"🔔 Classification: NOTIFY - This email contains important information\")\n",
        "    update=None\n",
        "    goto=END\n",
        "  else:\n",
        "    raise ValueError(f\"Invalid classification: {result.classification}\")\n",
        "\n",
        "  return Command(goto=goto,update=update)"
      ],
      "metadata": {
        "id": "HoAGSlPr8-Xc"
      },
      "execution_count": 128,
      "outputs": []
    },
    {
      "cell_type": "markdown",
      "source": [
        "Email Agent"
      ],
      "metadata": {
        "id": "Z-ZeWOvm9w7w"
      }
    },
    {
      "cell_type": "code",
      "source": [
        "email_agent=StateGraph(State)\n",
        "email_agent=email_agent.add_node(triage_router)\n",
        "email_agent=email_agent.add_node(\"response_agent\",response_agent)\n",
        "email_agent=email_agent.add_edge(START,\"triage_router\")\n",
        "email_agent=email_agent.compile(store=store)"
      ],
      "metadata": {
        "id": "4VUJsqTC9wEG"
      },
      "execution_count": 129,
      "outputs": []
    },
    {
      "cell_type": "code",
      "source": [
        "email_agent"
      ],
      "metadata": {
        "colab": {
          "base_uri": "https://localhost:8080/",
          "height": 266
        },
        "id": "7KI6yv8j-FN7",
        "outputId": "a817b608-e489-4884-d983-d86629066d09"
      },
      "execution_count": 130,
      "outputs": [
        {
          "output_type": "execute_result",
          "data": {
            "text/plain": [
              "<langgraph.graph.state.CompiledStateGraph object at 0x7ca1f70f4390>"
            ],
            "image/png": "[encoded data removed]"
          },
          "metadata": {},
          "execution_count": 130
        }
      ]
    },
    {
      "cell_type": "code",
      "source": [
        "email_input = {\n",
        "    \"author\": \"Alice Smith <alice.smith@company.com>\",\n",
        "    \"to\": \"Rohit Gupta <guptarohit@tcs.com>\",\n",
        "    \"subject\": \"Quick question about API documentation\",\n",
        "    \"email_thread\": \"\"\"Hi Rohit,\n",
        "\n",
        "I was reviewing the API documentation for the new authentication service and noticed a few endpoints seem to be missing from the specs. Could you help clarify if this was intentional or if we should update the docs?\n",
        "\n",
        "Specifically, I'm looking at:\n",
        "- /auth/refresh\n",
        "- /auth/validate\n",
        "\n",
        "Thanks!\n",
        "Alice\"\"\",\n",
        "}"
      ],
      "metadata": {
        "id": "xigQP3U3-G6b"
      },
      "execution_count": 131,
      "outputs": []
    },
    {
      "cell_type": "code",
      "source": [
        "response=email_agent.invoke(\n",
        "    {\"email_input\":email_input},\n",
        "    config=config\n",
        ")"
      ],
      "metadata": {
        "colab": {
          "base_uri": "https://localhost:8080/"
        },
        "id": "B8_CYnif-RJJ",
        "outputId": "eeeb3e81-aee0-42aa-ffc1-f129c3e3085e"
      },
      "execution_count": 132,
      "outputs": [
        {
          "output_type": "stream",
          "name": "stdout",
          "text": [
            "📧 Classification: RESPOND - This email requires a response\n"
          ]
        }
      ]
    },
    {
      "cell_type": "code",
      "source": [
        "for m in response['messages']:\n",
        "  m.pretty_print()"
      ],
      "metadata": {
        "colab": {
          "base_uri": "https://localhost:8080/"
        },
        "id": "V3c687fF-WZy",
        "outputId": "3f1d8f42-4ff4-4d32-e897-dcb43a979d35"
      },
      "execution_count": 133,
      "outputs": [
        {
          "output_type": "stream",
          "name": "stdout",
          "text": [
            "================================\u001b[1m Human Message \u001b[0m=================================\n",
            "\n",
            "Respond to the email {'author': 'Alice Smith <alice.smith@company.com>', 'to': 'Rohit Gupta <guptarohit@tcs.com>', 'subject': 'Quick question about API documentation', 'email_thread': \"Hi Rohit,\\n\\nI was reviewing the API documentation for the new authentication service and noticed a few endpoints seem to be missing from the specs. Could you help clarify if this was intentional or if we should update the docs?\\n\\nSpecifically, I'm looking at:\\n- /auth/refresh\\n- /auth/validate\\n\\nThanks!\\nAlice\"}\n",
            "==================================\u001b[1m Ai Message \u001b[0m==================================\n",
            "Tool Calls:\n",
            "  write_email (call_zgm3)\n",
            " Call ID: call_zgm3\n",
            "  Args:\n",
            "    to: Alice Smith <alice.smith@company.com>\n",
            "    subject: Re: Quick question about API documentation\n",
            "    content: Hi Alice,\n",
            "\n",
            "Thank you for reaching out and for pointing that out. I’ll check with the team regarding the missing endpoints (/auth/refresh and /auth/validate) and get back to you with more details.\n",
            "\n",
            "If there’s anything specific you’d like me to focus on while looking into this, please let me know.\n",
            "\n",
            "Thanks again for helping us improve the documentation!\n",
            "\n",
            "Best regards,\n",
            "Rohit Gupta\n",
            "=================================\u001b[1m Tool Message \u001b[0m=================================\n",
            "Name: write_email\n",
            "\n",
            "Email sent to Alice Smith <alice.smith@company.com> with subject 'Re: Quick question about API documentation' and content 'Hi Alice,\n",
            "\n",
            "Thank you for reaching out and for pointing that out. I’ll check with the team regarding the missing endpoints (/auth/refresh and /auth/validate) and get back to you with more details.\n",
            "\n",
            "If there’s anything specific you’d like me to focus on while looking into this, please let me know.\n",
            "\n",
            "Thanks again for helping us improve the documentation!\n",
            "\n",
            "Best regards,\n",
            "Rohit Gupta'\n",
            "==================================\u001b[1m Ai Message \u001b[0m==================================\n",
            "Tool Calls:\n",
            "  write_email (call_x7vm)\n",
            " Call ID: call_x7vm\n",
            "  Args:\n",
            "    to: Alice Smith <alice.smith@company.com>\n",
            "    subject: Re: Quick question about API documentation\n",
            "    content: Hi Alice,\n",
            "\n",
            "Thank you for reaching out and for pointing that out. I’ll check with the team regarding the missing endpoints (/auth/refresh and /auth/validate) and get back to you with more details.\n",
            "\n",
            "If there’s anything specific you’d like me to focus on while looking into this, please let me know.\n",
            "\n",
            "Thanks again for helping us improve the documentation!\n",
            "\n",
            "Best regards,\n",
            "Rohit Gupta\n",
            "=================================\u001b[1m Tool Message \u001b[0m=================================\n",
            "Name: write_email\n",
            "\n",
            "Email sent to Alice Smith <alice.smith@company.com> with subject 'Re: Quick question about API documentation' and content 'Hi Alice,\n",
            "\n",
            "Thank you for reaching out and for pointing that out. I’ll check with the team regarding the missing endpoints (/auth/refresh and /auth/validate) and get back to you with more details.\n",
            "\n",
            "If there’s anything specific you’d like me to focus on while looking into this, please let me know.\n",
            "\n",
            "Thanks again for helping us improve the documentation!\n",
            "\n",
            "Best regards,\n",
            "Rohit Gupta'\n",
            "==================================\u001b[1m Ai Message \u001b[0m==================================\n"
          ]
        }
      ]
    },
    {
      "cell_type": "markdown",
      "source": [
        "Memory Check"
      ],
      "metadata": {
        "id": "kMNiyn6IAtbd"
      }
    },
    {
      "cell_type": "code",
      "source": [
        "email_input={\n",
        "    \"author\": \"Alice Smith <alice.smith@company.com>\",\n",
        "    \"to\": \"Rohit Gupta <guptarohit@tcs.com>\",\n",
        "    \"subject\": \"Follow up\",\n",
        "    \"email_thread\": \"\"\"Hi Rohit,\n",
        "\n",
        "  Any update on my previous ask?\"\"\",\n",
        "}"
      ],
      "metadata": {
        "id": "GKyYmRWm-cg6"
      },
      "execution_count": 134,
      "outputs": []
    },
    {
      "cell_type": "code",
      "source": [
        "response=email_agent.invoke({\n",
        "    \"email_input\":email_input\n",
        "    },\n",
        "    config=config\n",
        ")"
      ],
      "metadata": {
        "colab": {
          "base_uri": "https://localhost:8080/"
        },
        "id": "D6xy3J-ZA6Ya",
        "outputId": "775caccd-00a4-4c64-cb00-10d3d009a0ad"
      },
      "execution_count": 138,
      "outputs": [
        {
          "output_type": "stream",
          "name": "stdout",
          "text": [
            "📧 Classification: RESPOND - This email requires a response\n"
          ]
        }
      ]
    },
    {
      "cell_type": "code",
      "source": [
        "for m in response['messages']:\n",
        "  m.pretty_print()"
      ],
      "metadata": {
        "colab": {
          "base_uri": "https://localhost:8080/"
        },
        "id": "tlPZPz85BB-f",
        "outputId": "ca640b39-629e-4060-bd76-f2ab4144f03a"
      },
      "execution_count": 139,
      "outputs": [
        {
          "output_type": "stream",
          "name": "stdout",
          "text": [
            "================================\u001b[1m Human Message \u001b[0m=================================\n",
            "\n",
            "Respond to the email {'author': 'Alice Smith <alice.smith@company.com>', 'to': 'Rohit Gupta <guptarohit@tcs.com>', 'subject': 'Follow up', 'email_thread': 'Hi Rohit,\\n\\n  Any update on my previous ask?'}\n",
            "==================================\u001b[1m Ai Message \u001b[0m==================================\n",
            "Tool Calls:\n",
            "  write_email (call_hg8g)\n",
            " Call ID: call_hg8g\n",
            "  Args:\n",
            "    to: Alice Smith <alice.smith@company.com>\n",
            "    subject: Re: Follow up\n",
            "    content: Hi Alice,\n",
            "\n",
            "Thank you for your follow-up email. Rohit will review your request and provide an update shortly.\n",
            "\n",
            "Best regards,\n",
            "[Your Name]\n",
            "Executive Assistant to Rohit Gupta\n",
            "=================================\u001b[1m Tool Message \u001b[0m=================================\n",
            "Name: write_email\n",
            "\n",
            "Email sent to Alice Smith <alice.smith@company.com> with subject 'Re: Follow up' and content 'Hi Alice,\n",
            "\n",
            "Thank you for your follow-up email. Rohit will review your request and provide an update shortly.\n",
            "\n",
            "Best regards,\n",
            "[Your Name]\n",
            "Executive Assistant to Rohit Gupta'\n",
            "==================================\u001b[1m Ai Message \u001b[0m==================================\n",
            "Tool Calls:\n",
            "  search_memory (call_e5ap)\n",
            " Call ID: call_e5ap\n",
            "  Args:\n",
            "    query: Alice Smith\n",
            "=================================\u001b[1m Tool Message \u001b[0m=================================\n",
            "Name: search_memory\n",
            "\n",
            "[{\"namespace\": [\"email_assistant\", \"session123\", \"collection\"], \"key\": \"7906f4a9-ee78-40f2-aa3f-57eb645905cd\", \"value\": {\"content\": \"{\\\"name\\\": \\\"Rahul\\\", \\\"relationship\\\": \\\"friend\\\"}\"}, \"created_at\": \"2025-03-24T16:34:27.609436+00:00\", \"updated_at\": \"2025-03-24T16:34:27.609442+00:00\", \"score\": 0.1334799730509225}, {\"namespace\": [\"email_assistant\", \"session123\", \"collection\"], \"key\": \"d80df7be-174e-4ad7-81da-96ac3304ce96\", \"value\": {\"content\": \"{\\\"name\\\": \\\"Rahul\\\", \\\"relationship\\\": \\\"friend\\\"}\"}, \"created_at\": \"2025-03-24T16:34:30.480970+00:00\", \"updated_at\": \"2025-03-24T16:34:30.480976+00:00\", \"score\": 0.13345138580789145}, {\"namespace\": [\"email_assistant\", \"session123\", \"collection\"], \"key\": \"22f14197-af40-4d57-83dd-f2e278b68f17\", \"value\": {\"content\": \"{\\\"name\\\": \\\"Rahul\\\", \\\"relationship\\\": \\\"friend\\\"}\"}, \"created_at\": \"2025-03-24T16:34:25.208122+00:00\", \"updated_at\": \"2025-03-24T16:34:25.208127+00:00\", \"score\": 0.1334358292583358}]\n",
            "==================================\u001b[1m Ai Message \u001b[0m==================================\n",
            "Tool Calls:\n",
            "  search_memory (call_2ydx)\n",
            " Call ID: call_2ydx\n",
            "  Args:\n",
            "    query: Alice Smith\n",
            "=================================\u001b[1m Tool Message \u001b[0m=================================\n",
            "Name: search_memory\n",
            "\n",
            "[{\"namespace\": [\"email_assistant\", \"session123\", \"collection\"], \"key\": \"7906f4a9-ee78-40f2-aa3f-57eb645905cd\", \"value\": {\"content\": \"{\\\"name\\\": \\\"Rahul\\\", \\\"relationship\\\": \\\"friend\\\"}\"}, \"created_at\": \"2025-03-24T16:34:27.609436+00:00\", \"updated_at\": \"2025-03-24T16:34:27.609442+00:00\", \"score\": 0.1334799730509225}, {\"namespace\": [\"email_assistant\", \"session123\", \"collection\"], \"key\": \"d80df7be-174e-4ad7-81da-96ac3304ce96\", \"value\": {\"content\": \"{\\\"name\\\": \\\"Rahul\\\", \\\"relationship\\\": \\\"friend\\\"}\"}, \"created_at\": \"2025-03-24T16:34:30.480970+00:00\", \"updated_at\": \"2025-03-24T16:34:30.480976+00:00\", \"score\": 0.13345138580789145}, {\"namespace\": [\"email_assistant\", \"session123\", \"collection\"], \"key\": \"22f14197-af40-4d57-83dd-f2e278b68f17\", \"value\": {\"content\": \"{\\\"name\\\": \\\"Rahul\\\", \\\"relationship\\\": \\\"friend\\\"}\"}, \"created_at\": \"2025-03-24T16:34:25.208122+00:00\", \"updated_at\": \"2025-03-24T16:34:25.208127+00:00\", \"score\": 0.1334358292583358}]\n",
            "==================================\u001b[1m Ai Message \u001b[0m==================================\n",
            "\n",
            "<tool_call>{\"id\":\"call_d5hz\",\"name\":\"manage_memory\",\"arguments\":{\"action\":\"create\",\"content\":\"{\\\"name\\\": \\\"Alice Smith\\\", \\\"title\\\": \\\"Client\\\", \\\"email\\\": \\\"alice.smith@company.com\\\"}\"}}<｜tool▁calls▁end｜>\n"
          ]
        }
      ]
    },
    {
      "cell_type": "code",
      "source": [],
      "metadata": {
        "id": "PZ828vWwBOk1"
      },
      "execution_count": null,
      "outputs": []
    }
  ]
}