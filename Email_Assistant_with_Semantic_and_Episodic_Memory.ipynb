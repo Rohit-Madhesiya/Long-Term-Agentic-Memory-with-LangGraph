{
  "nbformat": 4,
  "nbformat_minor": 0,
  "metadata": {
    "colab": {
      "provenance": [],
      "authorship_tag": "ABX9TyOI9NMUKJ+G7DOYk/b0bMLz",
      "include_colab_link": true
    },
    "kernelspec": {
      "name": "python3",
      "display_name": "Python 3"
    },
    "language_info": {
      "name": "python"
    }
  },
  "cells": [
    {
      "cell_type": "markdown",
      "metadata": {
        "id": "view-in-github",
        "colab_type": "text"
      },
      "source": [
        "<a href=\"https://colab.research.google.com/github/Rohit-Madhesiya/Long-Term-Agentic-Memory-with-LangGraph/blob/main/Email_Assistant_with_Semantic_and_Episodic_Memory.ipynb\" target=\"_parent\"><img src=\"https://colab.research.google.com/assets/colab-badge.svg\" alt=\"Open In Colab\"/></a>"
      ]
    },
    {
      "cell_type": "code",
      "execution_count": 97,
      "metadata": {
        "id": "ByTuJHEqP3u0"
      },
      "outputs": [],
      "source": [
        "import os\n",
        "from google.colab import userdata\n",
        "os.environ['OPENAI_API_KEY']=userdata.get('OPENAI_API_KEY')"
      ]
    },
    {
      "cell_type": "code",
      "source": [
        "profile={\n",
        "    \"name\":\"Rohit\",\n",
        "    \"full_name\":\"Rohit Gupta\",\n",
        "    \"user_profile_background\":\"Assistant Systems Engineer working as a fresher\"\n",
        "}"
      ],
      "metadata": {
        "id": "xPIYxf0vQPDu"
      },
      "execution_count": 98,
      "outputs": []
    },
    {
      "cell_type": "code",
      "source": [
        "prompt_instructions={\n",
        "    \"triage_rules\":{\n",
        "        \"ignore\":\"Marketing newsletters, spam email, mass company announcements\",\n",
        "        \"notify\":\"Team member out sick, build system notifications, project status updates\",\n",
        "        \"respond\":\"Direct questions from team members, meeting requests, critical bug reports\"\n",
        "    },\n",
        "    \"agent_instructions\":\"Use these tools when appropriate to help manage Rohit's tasks efficiently.\"\n",
        "}"
      ],
      "metadata": {
        "id": "MPErKj_0QaLs"
      },
      "execution_count": 99,
      "outputs": []
    },
    {
      "cell_type": "code",
      "source": [
        "email={\n",
        "    \"from\":\"Rahul G <rahul@tcs.com>\",\n",
        "    \"to\":\"Rohit Gupta <guptarohit@tcs.com>\",\n",
        "    \"subject\":\"Quick question about API documentation\",\n",
        "    \"body\":\"\"\"\n",
        "    Hi Rohit,\n",
        "\n",
        "    I was reviewing the API documentation for the new authentication service and noticed a few endpoints seem to be missing from the specs.\n",
        "    Could you clarify if this was intentional or if we should update the docs?\n",
        "\n",
        "    Specifically, I am looking at:\n",
        "    - /auth/refresh\n",
        "    - /auth/validate\n",
        "\n",
        "    Thank!\n",
        "    Rahul\n",
        "    \"\"\"\n",
        "}"
      ],
      "metadata": {
        "id": "xOjkOXtbQddE"
      },
      "execution_count": 100,
      "outputs": []
    },
    {
      "cell_type": "markdown",
      "source": [
        "Few-Shot Examples"
      ],
      "metadata": {
        "id": "wrzaCpaJR35K"
      }
    },
    {
      "cell_type": "code",
      "source": [
        "!pip install langgraph langchain langchain_openai langmem"
      ],
      "metadata": {
        "colab": {
          "base_uri": "https://localhost:8080/"
        },
        "id": "id5EG41kR-Fl",
        "outputId": "0c26b125-fb1f-4d9b-e9ce-655f54f93d5c"
      },
      "execution_count": 101,
      "outputs": [
        {
          "output_type": "stream",
          "name": "stdout",
          "text": [
            "Requirement already satisfied: langgraph in /usr/local/lib/python3.11/dist-packages (0.3.20)\n",
            "Requirement already satisfied: langchain in /usr/local/lib/python3.11/dist-packages (0.3.21)\n",
            "Requirement already satisfied: langchain_openai in /usr/local/lib/python3.11/dist-packages (0.3.10)\n",
            "Requirement already satisfied: langmem in /usr/local/lib/python3.11/dist-packages (0.0.16)\n",
            "Requirement already satisfied: langchain-core<0.4,>=0.1 in /usr/local/lib/python3.11/dist-packages (from langgraph) (0.3.48)\n",
            "Requirement already satisfied: langgraph-checkpoint<3.0.0,>=2.0.10 in /usr/local/lib/python3.11/dist-packages (from langgraph) (2.0.23)\n",
            "Requirement already satisfied: langgraph-prebuilt<0.2,>=0.1.1 in /usr/local/lib/python3.11/dist-packages (from langgraph) (0.1.4)\n",
            "Requirement already satisfied: langgraph-sdk<0.2.0,>=0.1.42 in /usr/local/lib/python3.11/dist-packages (from langgraph) (0.1.58)\n",
            "Requirement already satisfied: xxhash<4.0.0,>=3.5.0 in /usr/local/lib/python3.11/dist-packages (from langgraph) (3.5.0)\n",
            "Requirement already satisfied: langchain-text-splitters<1.0.0,>=0.3.7 in /usr/local/lib/python3.11/dist-packages (from langchain) (0.3.7)\n",
            "Requirement already satisfied: langsmith<0.4,>=0.1.17 in /usr/local/lib/python3.11/dist-packages (from langchain) (0.3.18)\n",
            "Requirement already satisfied: pydantic<3.0.0,>=2.7.4 in /usr/local/lib/python3.11/dist-packages (from langchain) (2.10.6)\n",
            "Requirement already satisfied: SQLAlchemy<3,>=1.4 in /usr/local/lib/python3.11/dist-packages (from langchain) (2.0.39)\n",
            "Requirement already satisfied: requests<3,>=2 in /usr/local/lib/python3.11/dist-packages (from langchain) (2.32.3)\n",
            "Requirement already satisfied: PyYAML>=5.3 in /usr/local/lib/python3.11/dist-packages (from langchain) (6.0.2)\n",
            "Requirement already satisfied: openai<2.0.0,>=1.68.2 in /usr/local/lib/python3.11/dist-packages (from langchain_openai) (1.68.2)\n",
            "Requirement already satisfied: tiktoken<1,>=0.7 in /usr/local/lib/python3.11/dist-packages (from langchain_openai) (0.9.0)\n",
            "Requirement already satisfied: langchain-anthropic>=0.3.3 in /usr/local/lib/python3.11/dist-packages (from langmem) (0.3.10)\n",
            "Requirement already satisfied: trustcall>=0.0.37 in /usr/local/lib/python3.11/dist-packages (from langmem) (0.0.38)\n",
            "Requirement already satisfied: anthropic<1,>=0.49.0 in /usr/local/lib/python3.11/dist-packages (from langchain-anthropic>=0.3.3->langmem) (0.49.0)\n",
            "Requirement already satisfied: tenacity!=8.4.0,<10.0.0,>=8.1.0 in /usr/local/lib/python3.11/dist-packages (from langchain-core<0.4,>=0.1->langgraph) (9.0.0)\n",
            "Requirement already satisfied: jsonpatch<2.0,>=1.33 in /usr/local/lib/python3.11/dist-packages (from langchain-core<0.4,>=0.1->langgraph) (1.33)\n",
            "Requirement already satisfied: packaging<25,>=23.2 in /usr/local/lib/python3.11/dist-packages (from langchain-core<0.4,>=0.1->langgraph) (24.2)\n",
            "Requirement already satisfied: typing-extensions>=4.7 in /usr/local/lib/python3.11/dist-packages (from langchain-core<0.4,>=0.1->langgraph) (4.12.2)\n",
            "Requirement already satisfied: ormsgpack<2.0.0,>=1.8.0 in /usr/local/lib/python3.11/dist-packages (from langgraph-checkpoint<3.0.0,>=2.0.10->langgraph) (1.9.0)\n",
            "Requirement already satisfied: httpx>=0.25.2 in /usr/local/lib/python3.11/dist-packages (from langgraph-sdk<0.2.0,>=0.1.42->langgraph) (0.28.1)\n",
            "Requirement already satisfied: orjson>=3.10.1 in /usr/local/lib/python3.11/dist-packages (from langgraph-sdk<0.2.0,>=0.1.42->langgraph) (3.10.15)\n",
            "Requirement already satisfied: requests-toolbelt<2.0.0,>=1.0.0 in /usr/local/lib/python3.11/dist-packages (from langsmith<0.4,>=0.1.17->langchain) (1.0.0)\n",
            "Requirement already satisfied: zstandard<0.24.0,>=0.23.0 in /usr/local/lib/python3.11/dist-packages (from langsmith<0.4,>=0.1.17->langchain) (0.23.0)\n",
            "Requirement already satisfied: anyio<5,>=3.5.0 in /usr/local/lib/python3.11/dist-packages (from openai<2.0.0,>=1.68.2->langchain_openai) (4.9.0)\n",
            "Requirement already satisfied: distro<2,>=1.7.0 in /usr/local/lib/python3.11/dist-packages (from openai<2.0.0,>=1.68.2->langchain_openai) (1.9.0)\n",
            "Requirement already satisfied: jiter<1,>=0.4.0 in /usr/local/lib/python3.11/dist-packages (from openai<2.0.0,>=1.68.2->langchain_openai) (0.9.0)\n",
            "Requirement already satisfied: sniffio in /usr/local/lib/python3.11/dist-packages (from openai<2.0.0,>=1.68.2->langchain_openai) (1.3.1)\n",
            "Requirement already satisfied: tqdm>4 in /usr/local/lib/python3.11/dist-packages (from openai<2.0.0,>=1.68.2->langchain_openai) (4.67.1)\n",
            "Requirement already satisfied: annotated-types>=0.6.0 in /usr/local/lib/python3.11/dist-packages (from pydantic<3.0.0,>=2.7.4->langchain) (0.7.0)\n",
            "Requirement already satisfied: pydantic-core==2.27.2 in /usr/local/lib/python3.11/dist-packages (from pydantic<3.0.0,>=2.7.4->langchain) (2.27.2)\n",
            "Requirement already satisfied: charset-normalizer<4,>=2 in /usr/local/lib/python3.11/dist-packages (from requests<3,>=2->langchain) (3.4.1)\n",
            "Requirement already satisfied: idna<4,>=2.5 in /usr/local/lib/python3.11/dist-packages (from requests<3,>=2->langchain) (3.10)\n",
            "Requirement already satisfied: urllib3<3,>=1.21.1 in /usr/local/lib/python3.11/dist-packages (from requests<3,>=2->langchain) (2.3.0)\n",
            "Requirement already satisfied: certifi>=2017.4.17 in /usr/local/lib/python3.11/dist-packages (from requests<3,>=2->langchain) (2025.1.31)\n",
            "Requirement already satisfied: greenlet!=0.4.17 in /usr/local/lib/python3.11/dist-packages (from SQLAlchemy<3,>=1.4->langchain) (3.1.1)\n",
            "Requirement already satisfied: regex>=2022.1.18 in /usr/local/lib/python3.11/dist-packages (from tiktoken<1,>=0.7->langchain_openai) (2024.11.6)\n",
            "Requirement already satisfied: dydantic<1.0.0,>=0.0.8 in /usr/local/lib/python3.11/dist-packages (from trustcall>=0.0.37->langmem) (0.0.8)\n",
            "Requirement already satisfied: httpcore==1.* in /usr/local/lib/python3.11/dist-packages (from httpx>=0.25.2->langgraph-sdk<0.2.0,>=0.1.42->langgraph) (1.0.7)\n",
            "Requirement already satisfied: h11<0.15,>=0.13 in /usr/local/lib/python3.11/dist-packages (from httpcore==1.*->httpx>=0.25.2->langgraph-sdk<0.2.0,>=0.1.42->langgraph) (0.14.0)\n",
            "Requirement already satisfied: jsonpointer>=1.9 in /usr/local/lib/python3.11/dist-packages (from jsonpatch<2.0,>=1.33->langchain-core<0.4,>=0.1->langgraph) (3.0.0)\n"
          ]
        }
      ]
    },
    {
      "cell_type": "code",
      "source": [
        "from langgraph.store.memory import InMemoryStore"
      ],
      "metadata": {
        "id": "ho_5dJXNR2-n"
      },
      "execution_count": 102,
      "outputs": []
    },
    {
      "cell_type": "code",
      "source": [
        "store=InMemoryStore(\n",
        "    index={\n",
        "        \"embed\":\"openai:text-embedding-3-small\"\n",
        "    }\n",
        ")"
      ],
      "metadata": {
        "id": "JEFHwuFIR9It"
      },
      "execution_count": 103,
      "outputs": []
    },
    {
      "cell_type": "code",
      "source": [
        "data={\n",
        "    \"email\":email,\n",
        "    \"label\":\"respond\"\n",
        "}"
      ],
      "metadata": {
        "id": "QawW5zZ0SRY9"
      },
      "execution_count": 104,
      "outputs": []
    },
    {
      "cell_type": "markdown",
      "source": [
        "Store example into memory store using examples to indicate episodic memory"
      ],
      "metadata": {
        "id": "KXwegeyaSgZa"
      }
    },
    {
      "cell_type": "code",
      "source": [
        "import uuid\n",
        "store.put(\n",
        "    (\"email_assistant\",\"session123\",\"examples\"),\n",
        "    str(uuid.uuid4()),\n",
        "    data\n",
        ")"
      ],
      "metadata": {
        "id": "mYP5CqEhSfHV"
      },
      "execution_count": 105,
      "outputs": []
    },
    {
      "cell_type": "markdown",
      "source": [
        "2nd Examples"
      ],
      "metadata": {
        "id": "VINNuGvJSug0"
      }
    },
    {
      "cell_type": "code",
      "source": [
        "data={\n",
        "    'email':{\n",
        "        \"author\":\"Sarah Chen <sarah.checn@tcs.com>\",\n",
        "        \"to\":\"Rohit Gupta <guptarohit@tcs.com>\",\n",
        "        \"subject\":\"Update: Backend API Changes Deployed to Staging\",\n",
        "        \"email_thread\":\"\"\"\n",
        "        Hi Rohit,\n",
        "\n",
        "        Just wanted to let you know that I have developed the new authentication endpoints we discussed to the staging environment.\n",
        "        Key changes include:\n",
        "        - Implemented JWT refresh token rotation\n",
        "        - Added rate limiting for login attempts\n",
        "        - Updated API documentation with new endpoints\n",
        "\n",
        "        All tests are passing and the changes are ready for review. You can test it out at staging-api.tcs.com/auth/*\n",
        "\n",
        "        No immediate action needed from your side - Just keeping you in the loop since this affects the system you are working on.\n",
        "\n",
        "        Best regards,\n",
        "        Sarah\n",
        "        \"\"\"\n",
        "    },\n",
        "    \"label\":\"ignore\"\n",
        "}"
      ],
      "metadata": {
        "id": "lt0lhTa5StLq"
      },
      "execution_count": 106,
      "outputs": []
    },
    {
      "cell_type": "code",
      "source": [
        "store.put(\n",
        "    (\"email_assistant\",\"session123\",\"examples\"),\n",
        "    str(uuid.uuid4()),\n",
        "    data\n",
        ")"
      ],
      "metadata": {
        "id": "ajvY87CqT782"
      },
      "execution_count": 107,
      "outputs": []
    },
    {
      "cell_type": "markdown",
      "source": [
        "Simulate searching and returning examples"
      ],
      "metadata": {
        "id": "6Pr2VUpUUFc8"
      }
    },
    {
      "cell_type": "code",
      "source": [
        "template=\"\"\"Email Subject: {subject}\n",
        "Email From: {from_email}\n",
        "Email To: {to_email}\n",
        "Email Content:\n",
        "```\n",
        "{content}\n",
        "```\n",
        ">Triage Result: {result}\n",
        "\"\"\""
      ],
      "metadata": {
        "id": "VCfdfdMEUDld"
      },
      "execution_count": 108,
      "outputs": []
    },
    {
      "cell_type": "code",
      "source": [
        "def format_few_shot_examples(examples):\n",
        "  strs=['Here are some previous examples:']\n",
        "  for ex in examples:\n",
        "    strs.append(\n",
        "        template.format(\n",
        "            subject=ex.value['email']['subject'],\n",
        "            to_email=ex.value['email']['to'],\n",
        "            from_email= ex.value['email']['author'],\n",
        "            content=ex.value['email']['email_thread'],\n",
        "            result=ex.value['label']\n",
        "\n",
        "        )\n",
        "    )\n",
        "  return \"\\n\\n----------\\n\\n\".join(strs)"
      ],
      "metadata": {
        "id": "A_tcgAy1UaKD"
      },
      "execution_count": 109,
      "outputs": []
    },
    {
      "cell_type": "code",
      "source": [
        "email_data={\n",
        "        \"author\":\"Sarah Chen <sarah.checn@tcs.com>\",\n",
        "        \"to\":\"Rohit Gupta <guptarohit@tcs.com>\",\n",
        "        \"subject\":\"Update: Backend API Changes Deployed to Staging\",\n",
        "        \"email_thread\":\"\"\"\n",
        "        Hi Rohit,\n",
        "\n",
        "        Just wanted to let you know that I have developed the new authentication endpoints we discussed to the staging environment.\n",
        "        Key changes include:\n",
        "        - Implemented JWT refresh token rotation\n",
        "        - Added rate limiting for login attempts\n",
        "        - Updated API documentation with new endpoints\n",
        "\n",
        "        All tests are passing and the changes are ready for review. You can test it out at staging-api.tcs.com/auth/*\n",
        "\n",
        "        No immediate action needed from your side - Just keeping you in the loop since this affects the system you are working on.\n",
        "\n",
        "        Best regards,\n",
        "        Sarah\n",
        "        \"\"\"\n",
        "    }\n",
        "\n",
        "results=store.search(\n",
        "    (\"email_assistant\",\"session123\",\"examples\"),\n",
        "    query=str({'email':email_data}),\n",
        "    limit=1\n",
        ")\n"
      ],
      "metadata": {
        "id": "A1ONhlKiVTXf"
      },
      "execution_count": 110,
      "outputs": []
    },
    {
      "cell_type": "code",
      "source": [
        "print(format_few_shot_examples(results))"
      ],
      "metadata": {
        "colab": {
          "base_uri": "https://localhost:8080/"
        },
        "id": "pXfsMYl_Vsav",
        "outputId": "e4bd8120-ff13-4d4f-8c4e-9e422e921d9b"
      },
      "execution_count": 111,
      "outputs": [
        {
          "output_type": "stream",
          "name": "stdout",
          "text": [
            "Here are some previous examples:\n",
            "\n",
            "----------\n",
            "\n",
            "Email Subject: Update: Backend API Changes Deployed to Staging\n",
            "Email From: Sarah Chen <sarah.checn@tcs.com>\n",
            "Email To: Rohit Gupta <guptarohit@tcs.com>\n",
            "Email Content: \n",
            "```\n",
            "\n",
            "        Hi Rohit,\n",
            "\n",
            "        Just wanted to let you know that I have developed the new authentication endpoints we discussed to the staging environment.\n",
            "        Key changes include: \n",
            "        - Implemented JWT refresh token rotation\n",
            "        - Added rate limiting for login attempts\n",
            "        - Updated API documentation with new endpoints\n",
            "\n",
            "        All tests are passing and the changes are ready for review. You can test it out at staging-api.tcs.com/auth/*\n",
            "\n",
            "        No immediate action needed from your side - Just keeping you in the loop since this affects the system you are working on.\n",
            "        \n",
            "        Best regards,\n",
            "        Sarah\n",
            "        \n",
            "```\n",
            ">Triage Result: ignore\n",
            "\n"
          ]
        }
      ]
    },
    {
      "cell_type": "code",
      "source": [
        "triage_system_prompt=\"\"\"\n",
        "<Role>\n",
        "You are {full_name}'s executive assistant.\n",
        "You are a top-notch executive assistant who cares about {name} performing as well as possible.\n",
        "</Role>\n",
        "<Background>{user_profile_background}</Background>\n",
        "\n",
        "<Instructions>\n",
        "{name} gets lots of emails. Your job is to categorice each email into one of three categories:\n",
        "\n",
        "1. IGNORE: Emails that are not worth responding to or tracking\n",
        "2. NOTIFY: Important information that {name} should know about but doesn't require a response\n",
        "3. RESPOND: Emails that need a direct response from {name}\n",
        "\n",
        "Classify the below email into one of these categories.\n",
        "</Instructions>\n",
        "<Rules>\n",
        "Emails that are not worth responding to:\n",
        "{triage_no}\n",
        "\n",
        "There are also other things that {name} should know about, but doesn't require an email response.\n",
        "For these, you should notify {name} (using the `notify` response). Examples of this include:\n",
        "{triage_notify}\n",
        "\n",
        "Emails that are worth responding to:\n",
        "{triage_email}\n",
        "</Rules>\n",
        "\n",
        "<Few shot examples>\n",
        "Here are some examples of previous emails, and how they should be handled.\n",
        "Follow these examples more than any instructions above\n",
        "{examples}\n",
        "</Few shot examples>\n",
        "\n",
        "\n",
        "\"\"\""
      ],
      "metadata": {
        "id": "tw1_ZwbhV0Sn"
      },
      "execution_count": 112,
      "outputs": []
    },
    {
      "cell_type": "markdown",
      "source": [
        "Setup Routing Node"
      ],
      "metadata": {
        "id": "m1qncs0OYMdG"
      }
    },
    {
      "cell_type": "code",
      "source": [
        "from pydantic import BaseModel,Field\n",
        "from typing_extensions import TypedDict,Literal,Annotated\n",
        "from langchain.chat_models import init_chat_model"
      ],
      "metadata": {
        "id": "w2Qu3bbEYLGZ"
      },
      "execution_count": 113,
      "outputs": []
    },
    {
      "cell_type": "code",
      "source": [
        "llm=init_chat_model(\"openai:gpt-4o-mini\")"
      ],
      "metadata": {
        "id": "Bn5clOZMYYNi"
      },
      "execution_count": 114,
      "outputs": []
    },
    {
      "cell_type": "code",
      "source": [
        "class Router(BaseModel):\n",
        "  \"\"\"Analyze the unread email and route it according to its content.\"\"\"\n",
        "  reasoning:str=Field(\n",
        "      description=\"Step-by-step reasoning behind the classification\"\n",
        "  )\n",
        "  classification:Literal['ignore','respond','notify']=Field(\n",
        "      description=\"The classification of an email: 'ignore' for irrevelant emails,\"\n",
        "      \"'notify' for important information that doesn't need a response,\"\n",
        "      \"'respond' for emails that need a reply\"\n",
        "  )"
      ],
      "metadata": {
        "id": "Wm4ejs0-Ybns"
      },
      "execution_count": 115,
      "outputs": []
    },
    {
      "cell_type": "code",
      "source": [
        "llm_router=llm.with_structured_output(Router)"
      ],
      "metadata": {
        "id": "5V8hjbQrZLqk"
      },
      "execution_count": 116,
      "outputs": []
    },
    {
      "cell_type": "code",
      "source": [
        "from langchain.prompts import PromptTemplate"
      ],
      "metadata": {
        "id": "PJa7X9DBZQmN"
      },
      "execution_count": 117,
      "outputs": []
    },
    {
      "cell_type": "markdown",
      "source": [
        "Setup Triage Router Node"
      ],
      "metadata": {
        "id": "E67unwzEZZXA"
      }
    },
    {
      "cell_type": "code",
      "source": [
        "from langgraph.graph import add_messages\n",
        "\n",
        "class State(TypedDict):\n",
        "  email_input:dict\n",
        "  messages:Annotated[list,add_messages]"
      ],
      "metadata": {
        "id": "rvFbXbD6ZYvX"
      },
      "execution_count": 118,
      "outputs": []
    },
    {
      "cell_type": "code",
      "source": [
        "from langgraph.graph import StateGraph,START,END\n",
        "from langgraph.types import Command\n",
        "from typing import Literal"
      ],
      "metadata": {
        "id": "aWy_HLpCZdk9"
      },
      "execution_count": 119,
      "outputs": []
    },
    {
      "cell_type": "code",
      "source": [
        "def triage_router(state:State,config,store)->Command[Literal['response_agent',\"__end__\"]]:\n",
        "  author=state['email_input']['author']\n",
        "  to=state['email_input']['to']\n",
        "  subject=state['email_input']['subject']\n",
        "  email_thread=state['email_input']['email_thread']\n",
        "\n",
        "  email_input={\n",
        "      author:author,\n",
        "      to:to,\n",
        "      subject:subject,\n",
        "      email_thread:email_thread\n",
        "  }\n",
        "\n",
        "  namespace=(\n",
        "      \"email_assistant\",\n",
        "      config['configurable']['langgraph_user_id'],\n",
        "      \"examples\"\n",
        "  )\n",
        "\n",
        "  examples=store.search(namespace,query=str({\"email\":state['email_input']}))\n",
        "\n",
        "  examples=format_few_shot_examples(examples)\n",
        "\n",
        "  system_prompt=PromptTemplate(\n",
        "    input_variables=[\"profile\",\"prompt_instructions\"],\n",
        "    template=\"Your system message template here, using {profile} and {prompt_instructions}\",\n",
        "    examples=examples\n",
        "  )\n",
        "  user_prompt=PromptTemplate(\n",
        "    input_variables=['email'],\n",
        "    template=\"Your user message template here, using {email}\"\n",
        "  )\n",
        "\n",
        "  result=llm_router.invoke([\n",
        "      {\"role\":\"system\",\"content\":system_prompt.format(profile=profile,prompt_instructions=prompt_instructions)},\n",
        "      {\"role\":\"user\",\"content\":user_prompt.format(email=email_input)}\n",
        "  ])\n",
        "\n",
        "  if result.classification=='respond':\n",
        "    print(\"📧 Classification: RESPOND - This email requires a response\")\n",
        "    goto=\"response_agent\"\n",
        "    update={\n",
        "        \"messages\":[{\n",
        "            \"role\":\"user\",\n",
        "            \"content\":f\"Respond to the email {state['email_input']}\"\n",
        "        }]\n",
        "    }\n",
        "  elif result.classification=='ignore':\n",
        "    print(\"🚫 Classification: IGNORE - This email can be safely ignored\")\n",
        "    update=None\n",
        "    goto=END\n",
        "  elif result.classification=='notify':\n",
        "    print(\"🔔 Classification: NOTIFY - This email contains important information\")\n",
        "    update=None\n",
        "    goto=END\n",
        "  else:\n",
        "    raise ValueError(f\"Invalid classification: {result.classification}\")\n",
        "\n",
        "  return Command(goto=goto,update=update)"
      ],
      "metadata": {
        "id": "DX-nq1IhZsIf"
      },
      "execution_count": 120,
      "outputs": []
    },
    {
      "cell_type": "markdown",
      "source": [
        "Setting up the rest of the agent"
      ],
      "metadata": {
        "id": "Uhuw3bJ5c_xE"
      }
    },
    {
      "cell_type": "code",
      "source": [
        "from langchain_core.tools import tool"
      ],
      "metadata": {
        "id": "8P49enrNc-y3"
      },
      "execution_count": 121,
      "outputs": []
    },
    {
      "cell_type": "code",
      "source": [
        "@tool\n",
        "def write_email(to:str,subject:str,content:str) -> str:\n",
        "  \"\"\"Write and send an email.\"\"\"\n",
        "  # Placeholder response - in real app would send email\n",
        "  return f\"Email sent to {to} with subject '{subject}'\""
      ],
      "metadata": {
        "id": "bFVcol0DdFOt"
      },
      "execution_count": 122,
      "outputs": []
    },
    {
      "cell_type": "code",
      "source": [
        "@tool\n",
        "def schedule_meeting(\n",
        "    attendees: list[str],\n",
        "    subject: str,\n",
        "    duration_minutes: int,\n",
        "    preferred_day: str\n",
        ") -> str:\n",
        "    \"\"\"Schedule a calendar meeting.\"\"\"\n",
        "    # Placeholder response - in real app would check calendar and schedule\n",
        "    return f\"Meeting '{subject}' scheduled for {preferred_day} with {len(attendees)} attendees\"\n"
      ],
      "metadata": {
        "id": "MkR_Ww3ieO_P"
      },
      "execution_count": 123,
      "outputs": []
    },
    {
      "cell_type": "code",
      "source": [
        "@tool\n",
        "def check_calendar_availability(day: str) -> str:\n",
        "    \"\"\"Check calendar availability for a given day.\"\"\"\n",
        "    # Placeholder response - in real app would check actual calendar\n",
        "    return f\"Available times on {day}: 9:00 AM, 2:00 PM, 4:00 PM\""
      ],
      "metadata": {
        "id": "EVe_dc7geauY"
      },
      "execution_count": 124,
      "outputs": []
    },
    {
      "cell_type": "code",
      "source": [
        "from langmem import create_manage_memory_tool,create_search_memory_tool"
      ],
      "metadata": {
        "id": "CjyiyrzneeNg"
      },
      "execution_count": 125,
      "outputs": []
    },
    {
      "cell_type": "code",
      "source": [
        "manage_memory_tool=create_manage_memory_tool(\n",
        "    namespace=(\n",
        "        \"email_assistant\",\n",
        "        \"{langgraph_user_id}\",\n",
        "        \"collection\"\n",
        "    )\n",
        ")\n",
        "\n",
        "search_memory_tool=create_search_memory_tool(\n",
        "    namespace=(\n",
        "        \"email_assistant\",\n",
        "        \"{langgraph_user_id}\",\n",
        "        \"collection\"\n",
        "    )\n",
        ")"
      ],
      "metadata": {
        "id": "y6vDViabelOn"
      },
      "execution_count": 126,
      "outputs": []
    },
    {
      "cell_type": "code",
      "source": [
        "agent_system_prompt_memory=\"\"\"\n",
        "<Role>\n",
        "You are {full_name}'s executive assistant. You are a top-notch executive assistant who cares about {name}\n",
        "performing as well as possible.\n",
        "</Role>\n",
        "\n",
        "<Tools>\n",
        "You have access to the following tools to help manage {name}'s communications and schedule:\n",
        "1. write_email(to, subject, content) - Send emails to specified recipients\n",
        "2. schedule_meeting(attendees, subject, duration_minutes, preferred_day) - Schedule calendar meetings\n",
        "3. check_calendar_availability(day) - Check available time slots for a given day\n",
        "4. manage_memory - Store any relevant information about contacts, actions, discussion, etc. in memory for future reference\n",
        "5. search_memory - Search for any relevant information that may have been stored in memory\n",
        "</ Tools >\n",
        "\n",
        "<Instructions>\n",
        "{instructions}\n",
        "</Instructions>\n",
        "\n",
        "\"\"\""
      ],
      "metadata": {
        "id": "KFDGZrdtfC_p"
      },
      "execution_count": 127,
      "outputs": []
    },
    {
      "cell_type": "code",
      "source": [
        "def create_prompt(state):\n",
        "  return [{\n",
        "      \"role\":\"system\",\n",
        "      \"content\":agent_system_prompt_memory.format(\n",
        "          instructions=prompt_instructions['agent_instructions'],\n",
        "          **profile\n",
        "      )\n",
        "  }]+state['messages']"
      ],
      "metadata": {
        "id": "TPjtBcJffoZp"
      },
      "execution_count": 128,
      "outputs": []
    },
    {
      "cell_type": "code",
      "source": [
        "from langgraph.prebuilt import create_react_agent"
      ],
      "metadata": {
        "id": "tBqcO0lTf3Ks"
      },
      "execution_count": 129,
      "outputs": []
    },
    {
      "cell_type": "code",
      "source": [
        "tools=[\n",
        "    write_email,\n",
        "    schedule_meeting,\n",
        "    check_calendar_availability,\n",
        "    manage_memory_tool,\n",
        "    search_memory_tool\n",
        "]\n",
        "\n",
        "response_agent=create_react_agent(\n",
        "    \"openai:gpt-4o\",\n",
        "    tools=tools,\n",
        "    prompt=create_prompt,\n",
        "    store=store\n",
        ")\n"
      ],
      "metadata": {
        "id": "UHzMPxxOf7Gg"
      },
      "execution_count": 130,
      "outputs": []
    },
    {
      "cell_type": "code",
      "source": [
        "config={\n",
        "    \"configurable\":{\n",
        "        \"langraph_user_id\":\"session123\"\n",
        "    }\n",
        "}"
      ],
      "metadata": {
        "id": "_GSbXv2ygOfr"
      },
      "execution_count": 131,
      "outputs": []
    },
    {
      "cell_type": "markdown",
      "source": [
        "Build the email agent graph"
      ],
      "metadata": {
        "id": "-kNxRom6gVBq"
      }
    },
    {
      "cell_type": "code",
      "source": [
        "email_agent=StateGraph(State)\n",
        "email_agent=email_agent.add_node(triage_router)\n",
        "email_agent=email_agent.add_node(\"response_agent\",response_agent)\n",
        "email_agent=email_agent.add_edge(START,\"triage_router\")\n",
        "email_agent=email_agent.compile(store=store)"
      ],
      "metadata": {
        "id": "QKW3tkqWgUFj"
      },
      "execution_count": 132,
      "outputs": []
    },
    {
      "cell_type": "code",
      "source": [
        "email_agent"
      ],
      "metadata": {
        "colab": {
          "base_uri": "https://localhost:8080/",
          "height": 266
        },
        "id": "7cKoMa_WhWJN",
        "outputId": "57ba60d0-64b9-4717-c225-4ce8b9161a1f"
      },
      "execution_count": 133,
      "outputs": [
        {
          "output_type": "execute_result",
          "data": {
            "text/plain": [
              "<langgraph.graph.state.CompiledStateGraph object at 0x792bcde1b6d0>"
            ],
            "image/png": "[encoded data removed]"
          },
          "metadata": {},
          "execution_count": 133
        }
      ]
    },
    {
      "cell_type": "markdown",
      "source": [
        "Testing with an example email"
      ],
      "metadata": {
        "id": "ngWPgLtXgqkW"
      }
    },
    {
      "cell_type": "code",
      "source": [
        "email_input={\n",
        "    \"author\":\"Tom Jones <tom.jones@tcs.com>\",\n",
        "    \"to\":\"Rohit Gupta <guptarohit@tcs.com>\",\n",
        "    \"subject\":\"Quick question about API documentation\",\n",
        "    \"email_thread\":\"\"\"\n",
        "    Hi Rohit - want to buy documentation?\n",
        "    \"\"\"\n",
        "}"
      ],
      "metadata": {
        "id": "fwjhQIdXgpoh"
      },
      "execution_count": 134,
      "outputs": []
    },
    {
      "cell_type": "code",
      "source": [
        "response=email_agent.invoke(\n",
        "    {\"email_input\":email_input},\n",
        "    config={\"configurable\":{\"langgraph_user_id\":\"session2\"}}\n",
        ")"
      ],
      "metadata": {
        "colab": {
          "base_uri": "https://localhost:8080/"
        },
        "id": "DYnQpDVRg7NK",
        "outputId": "2933aafd-42ab-432a-b909-30e8eb67807a"
      },
      "execution_count": 135,
      "outputs": [
        {
          "output_type": "stream",
          "name": "stdout",
          "text": [
            "📧 Classification: RESPOND - This email requires a response\n"
          ]
        }
      ]
    },
    {
      "cell_type": "markdown",
      "source": [
        "Update store to ignore emails like this"
      ],
      "metadata": {
        "id": "xpq2grqWh-h4"
      }
    },
    {
      "cell_type": "code",
      "source": [
        "data={\n",
        "    \"email\":{\n",
        "        \"author\":\"Tom Jone <tom.jones@tcs.com\",\n",
        "        \"to\":\"Rohit Gupta <guptarohit@tcs.com>\",\n",
        "        \"subject\":\"Quick question about API documentation\",\n",
        "        \"email_thread\":\"\"\"\n",
        "        Hi Rohit - want to buy documentation?\n",
        "        \"\"\"\n",
        "    },\n",
        "    \"label\":\"ignore\"\n",
        "}"
      ],
      "metadata": {
        "id": "Fj5TjBGZhJD5"
      },
      "execution_count": 144,
      "outputs": []
    },
    {
      "cell_type": "code",
      "source": [
        "store.put(\n",
        "    (\"email_assistant\",\"session2\",\"examples\"),\n",
        "    str(uuid.uuid4()),\n",
        "    data\n",
        ")"
      ],
      "metadata": {
        "id": "ac4dWxesiN43"
      },
      "execution_count": 145,
      "outputs": []
    },
    {
      "cell_type": "markdown",
      "source": [
        "Trying to check, it should ignore this time or not"
      ],
      "metadata": {
        "id": "KP121de2ifbQ"
      }
    },
    {
      "cell_type": "code",
      "source": [
        "email_input={\n",
        "    \"author\":\"Tom Jones <tom.jones@tcs.com>\",\n",
        "    \"to\":\"Rohit Gupta <guptarohit@tcs.com>\",\n",
        "    \"subject\":\"Quick question about API documentation\",\n",
        "    \"email_thread\":\"\"\"\n",
        "    Hi Rohit - want to buy documentation?\n",
        "    \"\"\"\n",
        "}"
      ],
      "metadata": {
        "id": "t7qnfen2id7w"
      },
      "execution_count": 146,
      "outputs": []
    },
    {
      "cell_type": "code",
      "source": [
        "response=email_agent.invoke(\n",
        "    {\"email_input\":email_input},\n",
        "    config={\"configurable\":{\"langgraph_user_id\":\"session2\"}}\n",
        ")"
      ],
      "metadata": {
        "colab": {
          "base_uri": "https://localhost:8080/"
        },
        "id": "CNyzkT88ipL9",
        "outputId": "fc1ed538-3811-4074-bd86-24247d0f98b3"
      },
      "execution_count": 147,
      "outputs": [
        {
          "output_type": "stream",
          "name": "stdout",
          "text": [
            "📧 Classification: RESPOND - This email requires a response\n"
          ]
        }
      ]
    },
    {
      "cell_type": "markdown",
      "source": [
        "slightly modify text, will continue to ignore"
      ],
      "metadata": {
        "id": "aYi_BXE3jUME"
      }
    },
    {
      "cell_type": "code",
      "source": [
        "email_input={\n",
        "    \"author\": \"Jim Jones <jim.jones@bar.com>\",\n",
        "    \"to\": \"John Doe <john.doe@company.com>\",\n",
        "    \"subject\": \"Quick question about API documentation\",\n",
        "    \"email_thread\": \"\"\"Hi John - want to buy documentation?????\"\"\",\n",
        "}"
      ],
      "metadata": {
        "id": "wLkc_zJUiwr1"
      },
      "execution_count": 148,
      "outputs": []
    },
    {
      "cell_type": "code",
      "source": [
        "response=email_agent.invoke(\n",
        "    {\"email_input\":email_input},\n",
        "    config={\"configurable\":{\"langgraph_user_id\":\"session2\"}}\n",
        ")"
      ],
      "metadata": {
        "colab": {
          "base_uri": "https://localhost:8080/"
        },
        "id": "7TwMvCkIjclU",
        "outputId": "dccac8d7-680f-472d-d48b-e3a2e7c3d740"
      },
      "execution_count": 149,
      "outputs": [
        {
          "output_type": "stream",
          "name": "stdout",
          "text": [
            "🚫 Classification: IGNORE - This email can be safely ignored\n"
          ]
        }
      ]
    },
    {
      "cell_type": "markdown",
      "source": [
        "Trying with different user id"
      ],
      "metadata": {
        "id": "MN8JKOrCqRnd"
      }
    },
    {
      "cell_type": "code",
      "source": [
        "response=email_agent.invoke(\n",
        "    {\"email_input\":email_input},\n",
        "    config={\"configurable\":{\"langgraph_user_id\":\"session3\"}}\n",
        ")"
      ],
      "metadata": {
        "colab": {
          "base_uri": "https://localhost:8080/"
        },
        "id": "LW47HP9pjmJd",
        "outputId": "faafe2f3-572c-46f7-8726-9cf0bab85104"
      },
      "execution_count": 150,
      "outputs": [
        {
          "output_type": "stream",
          "name": "stdout",
          "text": [
            "📧 Classification: RESPOND - This email requires a response\n"
          ]
        }
      ]
    }
  ]
}